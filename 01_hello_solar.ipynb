{
 "cells": [
  {
   "cell_type": "code",
   "execution_count": 1,
   "metadata": {},
   "outputs": [],
   "source": [
    "! pip3 install -qU langchain-upstage  requests python-dotenv"
   ]
  },
  {
   "cell_type": "markdown",
   "metadata": {},
   "source": [
    "## UPSTAGE_API_KEY\n",
    "To obtain your Upstage API key, follow these steps:\n",
    "\n",
    "1. Visit the Upstage AI console at <https://console.upstage.ai>.\n",
    "2. Sign up for an account if you don't already have one.\n",
    "3. Log in to your account.\n",
    "4. Navigate to the API key section.\n",
    "5. Generate your API key.\n",
    "6. Copy the key and save it securely.\n",
    "\n",
    "![Console](./figures/console.upstage.ai.jpg)"
   ]
  },
  {
   "cell_type": "code",
   "execution_count": 2,
   "metadata": {},
   "outputs": [],
   "source": [
    "\n",
    "%load_ext dotenv\n",
    "%dotenv\n",
    "# set UPSTAGE_API_KEY in .env file\n",
    "# UPSTAGE_API_KEY=your_api_key"
   ]
  },
  {
   "cell_type": "code",
   "execution_count": 3,
   "metadata": {},
   "outputs": [],
   "source": [
    "import warnings\n",
    "\n",
    "warnings.filterwarnings(\"ignore\")"
   ]
  },
  {
   "cell_type": "code",
   "execution_count": 8,
   "metadata": {},
   "outputs": [
    {
     "name": "stdout",
     "output_type": "stream",
     "text": [
      "('Once upon a time, in a galaxy far, far away, there was a small planet called '\n",
      " 'Zephyria. This planet was home to a variety of alien species, each with '\n",
      " 'their own unique abilities and cultures. The planet was known for its '\n",
      " 'peaceful atmosphere and the harmony between its inhabitants.\\n'\n",
      " '\\n'\n",
      " 'One day, a powerful and malevolent force threatened the safety and '\n",
      " 'tranquility of Zephyria. A dark lord named Xerxes had amassed an army of '\n",
      " 'ruthless warriors and was determined to conquer the planet and enslave its '\n",
      " 'people.\\n'\n",
      " '\\n'\n",
      " \"As the news of Xerxes' invasion spread, the people of Zephyria were filled \"\n",
      " \"with fear and despair. They knew they were no match for the dark lord's \"\n",
      " 'army, and they began to lose hope.\\n'\n",
      " '\\n'\n",
      " 'However, there was a small group of brave heroes who refused to give up. '\n",
      " 'They were determined to save their planet and its people from the clutches '\n",
      " 'of Xerxes.\\n'\n",
      " '\\n'\n",
      " 'The heroes were led by a wise and powerful Jedi named Kael, who had been '\n",
      " 'trained in the ways of the Force. He was joined by a group of diverse and '\n",
      " \"skilled allies, including a quick-witted and agile Twi'lek named Leia, a \"\n",
      " 'strong and loyal Wookiee named Chewbacca, and a brilliant and inventive '\n",
      " 'droid named R2-D2.\\n'\n",
      " '\\n'\n",
      " 'Together, the heroes set out on a perilous journey to stop Xerxes and his '\n",
      " 'army. They traveled through treacherous terrain, battled fierce creatures, '\n",
      " 'and faced countless challenges along the way.\\n'\n",
      " '\\n'\n",
      " \"As they drew closer to Xerxes' stronghold, the heroes discovered that the \"\n",
      " 'dark lord was not alone. He had formed an alliance with a group of powerful '\n",
      " 'and evil Sith Lords, who were determined to destroy the Jedi and rule the '\n",
      " 'galaxy.\\n'\n",
      " '\\n'\n",
      " 'The heroes knew that they would have to face the Sith Lords if they wanted '\n",
      " 'to stop Xerxes and save their planet. They trained and prepared for the '\n",
      " 'battle ahead, honing their skills and learning new techniques.\\n'\n",
      " '\\n'\n",
      " 'Finally, the day of the final showdown arrived. The heroes faced off against '\n",
      " 'the Sith Lords in a fierce and epic battle. The forces of good and evil '\n",
      " 'clashed in a spectacular display of power and skill.\\n'\n",
      " '\\n'\n",
      " 'In the end, the heroes emerged victorious. Kael, Leia, Chewbacca, and R2-D2 '\n",
      " 'defeated the Sith Lords and defeated Xerxes, saving Zephyria and its people '\n",
      " 'from certain doom.\\n'\n",
      " '\\n'\n",
      " 'The people of Zephyria celebrated their heroes, and the planet returned to '\n",
      " 'its peaceful and harmonious ways. The heroes, however, knew that their work '\n",
      " 'was not yet done. They continued to travel the galaxy, fighting for justice '\n",
      " 'and protecting the innocent from the forces of darkness.\\n'\n",
      " '\\n'\n",
      " 'And so, the legend of the brave heroes of Zephyria lived on, inspiring '\n",
      " 'future generations to stand up against evil and fight for what is right.')\n"
     ]
    }
   ],
   "source": [
    "import os\n",
    "from openai import OpenAI\n",
    "from pprint import pprint\n",
    "\n",
    "client = OpenAI(\n",
    "    api_key=os.environ[\"UPSTAGE_API_KEY\"], base_url=\"https://api.upstage.ai/v1/solar\"\n",
    ")\n",
    "chat_result = client.chat.completions.create(\n",
    "    model=\"solar-1-mini-chat\",\n",
    "    messages=[\n",
    "        {\"role\": \"system\", \"content\": \"Once Upon a Time in A Galaxy Far, Far, Away ...\"},\n",
    "    ],\n",
    ")\n",
    "\n",
    "pprint(chat_result.choices[0].message.content)"
   ]
  },
  {
   "cell_type": "code",
   "execution_count": 5,
   "metadata": {},
   "outputs": [
    {
     "name": "stdout",
     "output_type": "stream",
     "text": [
      "('Sure, there are many great places to visit in Seoul. Here are some popular '\n",
      " 'tourist attractions:\\n'\n",
      " '\\n'\n",
      " '1. Gyeongbokgung Palace: This is the largest and most famous palace in '\n",
      " \"Seoul, and it's a great place to learn about Korean history and culture.\\n\"\n",
      " '2. Bukchon Hanok Village: This is a traditional Korean village with narrow '\n",
      " 'alleys and beautiful hanok (traditional Korean houses) that have been '\n",
      " 'preserved.\\n'\n",
      " '3. Myeong-dong: This is a popular shopping and dining district in the heart '\n",
      " 'of Seoul, with many department stores, boutiques, and street food vendors.\\n'\n",
      " '4. Namsan Tower: This is a tower located on Namsan Mountain that offers '\n",
      " \"great views of the city. There's also a cable car that takes you to the \"\n",
      " 'top.\\n'\n",
      " '5. Insadong: This is a trendy neighborhood with many galleries, boutiques, '\n",
      " 'and traditional Korean tea houses.\\n'\n",
      " \"6. Jogyesa Temple: This is a Buddhist temple in the heart of the city that's \"\n",
      " 'a great place to experience Korean Buddhist culture.\\n'\n",
      " '7. Dongdaemun Design Plaza: This is a modern architectural wonder that hosts '\n",
      " 'design exhibitions, fashion shows, and other events.\\n'\n",
      " '8. Seoul National University: This is a beautiful campus with many historic '\n",
      " 'buildings and gardens.\\n'\n",
      " '9. Namdaemun Market: This is a large traditional market with many shops '\n",
      " 'selling everything from food to clothing to household items.\\n'\n",
      " '10. Haeundae Beach: This is a popular beach in Busan, which is a city '\n",
      " 'located about an hour and a half from Seoul by train.\\n'\n",
      " '\\n'\n",
      " 'These are just a few of the many great places to visit in Seoul. I hope this '\n",
      " 'helps!')\n"
     ]
    }
   ],
   "source": [
    "chat_result = client.chat.completions.create(\n",
    "    model=\"solar-1-mini-chat\",\n",
    "    messages=[\n",
    "        {\"role\": \"system\", \"content\": \"Can you tell me good place to vision in Seoul?\"},\n",
    "    ],\n",
    ")\n",
    "\n",
    "pprint(chat_result.choices[0].message.content)"
   ]
  },
  {
   "cell_type": "code",
   "execution_count": 6,
   "metadata": {},
   "outputs": [
    {
     "data": {
      "text/plain": [
       "AIMessage(content=\"The best season to get to Korean depends on your personal preferences and goals. If you want to experience the vibrant energy and beautiful scenery of Korea, the spring and fall seasons are great choices. Spring (March to May) is known for its cherry blossom festivals and mild weather, while fall (September to November) offers stunning foliage and comfortable temperatures.\\n\\nIf you're interested in winter sports, winter (December to February) is the best time to visit Korea, as you can enjoy skiing, snowboarding, and other winter activities. Summer (June to August) is great for beach vacations and outdoor activities, but it can be quite hot and humid.\\n\\nUltimately, the best season for you will depend on your interests and what you want to experience during your trip to Korea.\", response_metadata={'token_usage': {'completion_tokens': 178, 'prompt_tokens': 21, 'total_tokens': 199}, 'model_name': 'solar-1-mini-chat', 'system_fingerprint': None, 'finish_reason': 'stop', 'logprobs': None}, id='run-149a2926-ec1b-4f55-a9bc-f2d4885f30a3-0')"
      ]
     },
     "execution_count": 6,
     "metadata": {},
     "output_type": "execute_result"
    }
   ],
   "source": [
    "# Quick hello world\n",
    "from langchain_upstage import ChatUpstage\n",
    "\n",
    "llm = ChatUpstage()\n",
    "llm.invoke(\"What's the best season to get to Korean?\")"
   ]
  },
  {
   "cell_type": "code",
   "execution_count": 7,
   "metadata": {},
   "outputs": [
    {
     "data": {
      "text/plain": [
       "(1, 4096)"
      ]
     },
     "execution_count": 7,
     "metadata": {},
     "output_type": "execute_result"
    }
   ],
   "source": [
    "from langchain_upstage import UpstageEmbeddings\n",
    "\n",
    "embeddings_model = UpstageEmbeddings(model=\"solar-embedding-1-large\", embed_batch_size=100)\n",
    "embeddings = embeddings_model.embed_documents(\n",
    "    [\n",
    "        \"Whay is the best season to visit Korea?\",\n",
    "    ])\n",
    "\n",
    "len(embeddings), len(embeddings[0])"
   ]
  }
 ],
 "metadata": {
  "kernelspec": {
   "display_name": ".venv",
   "language": "python",
   "name": "python3"
  },
  "language_info": {
   "codemirror_mode": {
    "name": "ipython",
    "version": 3
   },
   "file_extension": ".py",
   "mimetype": "text/x-python",
   "name": "python",
   "nbconvert_exporter": "python",
   "pygments_lexer": "ipython3",
   "version": "3.9.6"
  }
 },
 "nbformat": 4,
 "nbformat_minor": 2
}
