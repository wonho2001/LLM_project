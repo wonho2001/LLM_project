{
 "cells": [
  {
   "cell_type": "markdown",
   "metadata": {},
   "source": [
    "# Upstage Full Stack LLM with Langchain\n",
    "## Code to Understand!\n",
    "![Overview](./figures/overview.png)"
   ]
  },
  {
   "cell_type": "code",
   "execution_count": 1,
   "metadata": {},
   "outputs": [],
   "source": [
    "! pip3 install -qU guardrails-ai openai langchain_community langchain_experimental langchain-upstage sentence-transformers langchainhub langchain-chroma langchain matplotlib python-dotenv tavily-python ragas faiss-cpu tokenizers "
   ]
  },
  {
   "cell_type": "code",
   "execution_count": 2,
   "metadata": {},
   "outputs": [],
   "source": [
    "import warnings\n",
    "\n",
    "warnings.filterwarnings(\"ignore\")"
   ]
  },
  {
   "cell_type": "markdown",
   "metadata": {},
   "source": [
    "## UPSTAGE_API_KEY\n",
    "To obtain your Upstage API key, follow these steps:\n",
    "\n",
    "1. Visit the Upstage AI console at <https://console.upstage.ai>.\n",
    "2. Sign up for an account if you don't already have one.\n",
    "3. Log in to your account.\n",
    "4. Navigate to the API key section.\n",
    "5. Generate your API key.\n",
    "6. Copy the key and save it securely.\n",
    "\n",
    "![Console](./figures/console.upstage.ai.jpg)"
   ]
  },
  {
   "cell_type": "code",
   "execution_count": 3,
   "metadata": {},
   "outputs": [],
   "source": [
    "# Set .env and define these:\n",
    "# UPSTAGE_API_KEY from https://console.upstage.ai/\n",
    "# TAVILY_API_KEY https://app.tavily.com\n",
    "# NEWS_API_KEY from https://newsapi.org/\n",
    "\n",
    "%load_ext dotenv\n",
    "%dotenv\n"
   ]
  },
  {
   "cell_type": "markdown",
   "metadata": {},
   "source": [
    "## Interacting with the Solar-1-mini-chat Model\n",
    "\n",
    "This Python code demonstrates how to use the OpenAI API to interact with the Solar-1-mini-chat model provided by Upstage AI.\n",
    "\n",
    "### Steps\n",
    "\n",
    "1. Import necessary libraries: `os`, `openai`, and `pprint`.\n",
    "2. Set up the OpenAI client with the API key and base URL.\n",
    "3. Create a chat completion request using `client.chat.completions.create()`.\n",
    "   - Specify the model: \"solar-1-mini-chat\".\n",
    "   - Provide a list of messages, including the system message and user message.\n",
    "4. Handle the model's response:\n",
    "   - Print the entire response using `pprint()`.\n",
    "   - Print the content of the assistant's message using `response.choices[0].message.content`."
   ]
  },
  {
   "cell_type": "code",
   "execution_count": 4,
   "metadata": {},
   "outputs": [
    {
     "name": "stdout",
     "output_type": "stream",
     "text": [
      "ChatCompletion(id='8c4d3342-1725-49e9-ad97-0ae40949a3e1', choices=[Choice(finish_reason='stop', index=0, logprobs=None, message=ChatCompletionMessage(content=\"Ah, Korea! A fascinating country with a rich history and culture. I had the opportunity to visit both North and South Korea a few years back. It was a unique experience, to say the least.\\n\\nNorth Korea, or the Democratic People's Republic of Korea, is a country that's often shrouded in mystery due to its isolationist policies. I was able to visit as part of a guided tour, which is the only way foreigners can enter the country. The architecture in Pyongyang, the capital, is quite impressive, with grand monuments and buildings like the Juche Tower and the Pyongyang Metro. However, the strict control and surveillance by the government are evident everywhere you go.\\n\\nOn the other hand, South Korea, or the Republic of Korea, is a vibrant, modern country with a thriving economy and a strong focus on technology. I was struck by the contrast between the bustling city life in Seoul and the serenity of places like Jeju Island. The food is amazing, ranging from spicy Korean BBQ to delicious street food. And let's not forget about K-pop and the vibrant nightlife!\\n\\nBoth countries have their unique charm, but it's clear that they're very different in terms of lifestyle, culture, and political systems. It was an eye-opening experience to see how two countries, divided by a border, can be so distinct from each other.\", role='assistant', function_call=None, tool_calls=None))], created=1715763121, model='solar-1-mini-chat-240502', object='chat.completion', system_fingerprint=None, usage=CompletionUsage(completion_tokens=309, prompt_tokens=26, total_tokens=335))\n",
      "Message only:\n",
      "('Ah, Korea! A fascinating country with a rich history and culture. I had the '\n",
      " 'opportunity to visit both North and South Korea a few years back. It was a '\n",
      " 'unique experience, to say the least.\\n'\n",
      " '\\n'\n",
      " \"North Korea, or the Democratic People's Republic of Korea, is a country \"\n",
      " \"that's often shrouded in mystery due to its isolationist policies. I was \"\n",
      " 'able to visit as part of a guided tour, which is the only way foreigners can '\n",
      " 'enter the country. The architecture in Pyongyang, the capital, is quite '\n",
      " 'impressive, with grand monuments and buildings like the Juche Tower and the '\n",
      " 'Pyongyang Metro. However, the strict control and surveillance by the '\n",
      " 'government are evident everywhere you go.\\n'\n",
      " '\\n'\n",
      " 'On the other hand, South Korea, or the Republic of Korea, is a vibrant, '\n",
      " 'modern country with a thriving economy and a strong focus on technology. I '\n",
      " 'was struck by the contrast between the bustling city life in Seoul and the '\n",
      " 'serenity of places like Jeju Island. The food is amazing, ranging from spicy '\n",
      " \"Korean BBQ to delicious street food. And let's not forget about K-pop and \"\n",
      " 'the vibrant nightlife!\\n'\n",
      " '\\n'\n",
      " \"Both countries have their unique charm, but it's clear that they're very \"\n",
      " 'different in terms of lifestyle, culture, and political systems. It was an '\n",
      " 'eye-opening experience to see how two countries, divided by a border, can be '\n",
      " 'so distinct from each other.')\n"
     ]
    }
   ],
   "source": [
    "import os\n",
    "from openai import OpenAI\n",
    "from pprint import pprint\n",
    "\n",
    "client = OpenAI(\n",
    "    api_key=os.environ[\"UPSTAGE_API_KEY\"], base_url=\"https://api.upstage.ai/v1/solar\"\n",
    ")\n",
    "chat_result = client.chat.completions.create(\n",
    "    model=\"solar-1-mini-chat\",\n",
    "    messages=[\n",
    "        {\"role\": \"system\", \"content\": \"You are a helpful assistant.\"},\n",
    "        {\"role\": \"user\", \"content\": \"What about Korea?\"},\n",
    "    ],\n",
    ")\n",
    "pprint(chat_result)\n",
    "print(\"Message only:\")\n",
    "pprint(chat_result.choices[0].message.content)"
   ]
  },
  {
   "cell_type": "markdown",
   "metadata": {},
   "source": [
    "## Using Few-Shot Examples in Chat Completions\n",
    "\n",
    "This Python code demonstrates how to use few-shot examples in the OpenAI Chat Completions API to provide context and guide the model's responses.\n",
    "\n",
    "### Steps\n",
    "\n",
    "1. Set up the OpenAI client with the API key and base URL.\n",
    "2. Create a chat completion request using `client.chat.completions.create()`.\n",
    "   - Specify the model: \"solar-1-mini-chat\".\n",
    "   - Provide a list of messages, including:\n",
    "     - System message: Defines the assistant's role.\n",
    "     - Few-shot examples: Provide context and desired behavior.\n",
    "     - User input: The actual user query.\n",
    "3. Handle the model's response:\n",
    "   - Print the entire response using `pprint()`.\n",
    "   - Print the content of the assistant's message using `response.choices[0].message.content`."
   ]
  },
  {
   "cell_type": "code",
   "execution_count": 5,
   "metadata": {},
   "outputs": [
    {
     "name": "stdout",
     "output_type": "stream",
     "text": [
      "ChatCompletion(id='3ccd4cd4-b726-4581-9dea-6cc8e6269cf8', choices=[Choice(finish_reason='stop', index=0, logprobs=None, message=ChatCompletionMessage(content=\"I know of it. It's Seoul!!\", role='assistant', function_call=None, tool_calls=None))], created=1715763124, model='solar-1-mini-chat-240502', object='chat.completion', system_fingerprint=None, usage=CompletionUsage(completion_tokens=12, prompt_tokens=55, total_tokens=67))\n",
      "Message only:\n",
      "\"I know of it. It's Seoul!!\"\n"
     ]
    }
   ],
   "source": [
    "# few shots: examples or history\n",
    "chat_result = client.chat.completions.create(\n",
    "    model=\"solar-1-mini-chat\",\n",
    "    messages=[\n",
    "        {\"role\": \"system\", \"content\": \"You are a helpful assistant.\"},\n",
    "        # examples\n",
    "        {\"role\": \"user\", \"content\": \"What is the capital of France?\"},\n",
    "        {\n",
    "            \"role\": \"assistant\",\n",
    "            \"content\": \"I know of it. It's Paris!!\",\n",
    "        },\n",
    "        # user input\n",
    "        {\"role\": \"user\", \"content\": \"What about Korea?\"},\n",
    "    ],\n",
    ")\n",
    "pprint(chat_result)\n",
    "print(\"Message only:\")\n",
    "pprint(chat_result.choices[0].message.content)"
   ]
  },
  {
   "cell_type": "markdown",
   "metadata": {},
   "source": [
    "## Building LLM Applications with LangChain\n",
    "\n",
    "This Python code demonstrates how to use the LangChain library to build applications with Large Language Models (LLMs). It covers the basic steps of defining an LLM, creating a chat prompt, defining a chain, and invoking the chain.\n",
    "\n",
    "### Steps\n",
    "\n",
    "1. Define your favorite LLM:\n",
    "   - Import the `ChatUpstage` class from `langchain_upstage`.\n",
    "   - Create an instance of `ChatUpstage` and assign it to the variable `llm`.\n",
    "\n",
    "2. Define a chat prompt:\n",
    "   - Import the `ChatPromptTemplate` class from `langchain_core.prompts`.\n",
    "   - Create a `ChatPromptTemplate` instance using the `from_messages()` method.\n",
    "   - Provide a list of messages, including system messages, example conversations, and user input.\n",
    "\n",
    "3. Define a chain:\n",
    "   - Import the `StrOutputParser` class from `langchain_core.output_parsers`.\n",
    "   - Create a chain by combining the `rag_with_history_prompt`, `llm`, and `StrOutputParser()` using the pipe (`|`) operator.\n",
    "\n",
    "4. Invoke the chain:\n",
    "   - Call the `invoke()` method on the `chain` object, passing an empty dictionary (`{}`) as the input.\n",
    "   - Print the response obtained from the chain."
   ]
  },
  {
   "cell_type": "code",
   "execution_count": 6,
   "metadata": {},
   "outputs": [
    {
     "data": {
      "text/plain": [
       "AIMessage(content=\"I'm just a computer program, so I don't have feelings or emotions. But I'm here to help you with any questions or problems you have. How can I assist you today?\", response_metadata={'token_usage': {'completion_tokens': 45, 'prompt_tokens': 16, 'total_tokens': 61}, 'model_name': 'solar-1-mini-chat', 'system_fingerprint': None, 'finish_reason': 'stop', 'logprobs': None}, id='run-6a7b4ade-b495-4fa4-989b-4a506737d7ae-0')"
      ]
     },
     "execution_count": 6,
     "metadata": {},
     "output_type": "execute_result"
    }
   ],
   "source": [
    "# Quick hello world\n",
    "from langchain_upstage import ChatUpstage\n",
    "\n",
    "llm = ChatUpstage()\n",
    "llm.invoke(\"Hello, how are you?\")"
   ]
  },
  {
   "cell_type": "code",
   "execution_count": 7,
   "metadata": {},
   "outputs": [
    {
     "name": "stdout",
     "output_type": "stream",
     "text": [
      "Korea has two capitals, North and South, and their names are Seoul.\n"
     ]
    }
   ],
   "source": [
    "# langchain, 1. llm define, 2. prompt define, 3. chain, 4. chain.invoke\n",
    "\n",
    "# 1. define your favorate llm, solar\n",
    "from langchain_upstage import ChatUpstage\n",
    "\n",
    "llm = ChatUpstage()\n",
    "\n",
    "# 2. define chat prompt\n",
    "from langchain_core.prompts import ChatPromptTemplate\n",
    "\n",
    "rag_with_history_prompt = ChatPromptTemplate.from_messages(\n",
    "    [\n",
    "        (\"system\", \"You are a helpful assistant.\"),\n",
    "        (\"human\", \"What is the capital of France?\"),\n",
    "        (\"ai\", \"I know of it. It's Paris!!\"),\n",
    "        (\"human\", \"What about Korea?\"),\n",
    "    ]\n",
    ")\n",
    "\n",
    "# 3. define chain\n",
    "from langchain_core.output_parsers import StrOutputParser\n",
    "\n",
    "chain = rag_with_history_prompt | llm | StrOutputParser()\n",
    "\n",
    "# 4. invoke the chain\n",
    "c_result = chain.invoke({})\n",
    "print(c_result)"
   ]
  },
  {
   "cell_type": "markdown",
   "metadata": {},
   "source": [
    "## Parameterized Prompt Templates in LangChain\n",
    "\n",
    "### Overview\n",
    "\n",
    "- Prompt templates allow for reusable and modular prompts\n",
    "- They improve maintainability compared to using raw prompt strings\n",
    "- {country} value can be set from outside"
   ]
  },
  {
   "cell_type": "code",
   "execution_count": 8,
   "metadata": {},
   "outputs": [
    {
     "name": "stdout",
     "output_type": "stream",
     "text": [
      "Oh, I see. There's two Koreas, right? The capital of North Korea is Pyongyang and the capital of South Korea is Seoul.\n",
      "---\n",
      "Tokyo, oh! That's it!!\n"
     ]
    }
   ],
   "source": [
    "# parameterized prompt template\n",
    "rag_with_history_prompt = ChatPromptTemplate.from_messages(\n",
    "    [\n",
    "        (\"system\", \"You are a helpful assistant.\"),\n",
    "        (\"human\", \"What is the capital of France?\"),\n",
    "        (\"ai\", \"I know of it. It's Paris!!\"),\n",
    "        (\"human\", \"What about {country}?\"),\n",
    "    ]\n",
    ")\n",
    "\n",
    "chain = rag_with_history_prompt | llm | StrOutputParser()\n",
    "\n",
    "# 4. invoke chain with param\n",
    "print(chain.invoke({\"country\": \"Korea\"}))\n",
    "print(\"---\")\n",
    "print(chain.invoke({\"country\": \"Japan\"}))"
   ]
  },
  {
   "cell_type": "markdown",
   "metadata": {},
   "source": [
    "## Leveraging Message History in LangChain Prompts\n",
    "\n",
    "- LangChain provides powerful tools for managing conversation history\n",
    "- `MessagesPlaceholder` allows for dynamic inclusion of message history\n",
    "- `HumanMessage` and `AIMessage` classes represent individual messages\n",
    "- Combining message history with user input enables context-aware responses"
   ]
  },
  {
   "cell_type": "code",
   "execution_count": 9,
   "metadata": {},
   "outputs": [
    {
     "name": "stdout",
     "output_type": "stream",
     "text": [
      "The capital of South Korea is Seoul, and the capital of North Korea is Pyongyang. But remember, these are big, important cities where the leaders live and make decisions for the country.\n"
     ]
    }
   ],
   "source": [
    "from langchain_core.prompts import ChatPromptTemplate, MessagesPlaceholder\n",
    "\n",
    "# More general chat\n",
    "rag_with_history_prompt = ChatPromptTemplate.from_messages(\n",
    "    [\n",
    "        (\"system\", \"You are a helpful assistant.\"),\n",
    "        MessagesPlaceholder(variable_name=\"history\"),\n",
    "        (\"human\", \"{input}\"),\n",
    "    ]\n",
    ")\n",
    "\n",
    "from langchain_core.messages import AIMessage, HumanMessage\n",
    "\n",
    "history = [\n",
    "    HumanMessage(\"What is the capital of France?\"),\n",
    "    AIMessage(\"It's Paris!!\"),\n",
    "]\n",
    "\n",
    "chain = rag_with_history_prompt | llm | StrOutputParser()\n",
    "chain_result = chain.invoke({\"history\": history, \"input\": \"What about Korea?\"})\n",
    "print(chain_result)"
   ]
  },
  {
   "cell_type": "markdown",
   "metadata": {},
   "source": [
    "![Hallucination](./figures/hallucination.png)"
   ]
  },
  {
   "cell_type": "code",
   "execution_count": 10,
   "metadata": {},
   "outputs": [
    {
     "data": {
      "text/plain": [
       "AIMessage(content='Upstage DUS (Doppler Ultrasound) is a technique used to evaluate the blood flow in the arteries and veins of the upper and lower extremities. It involves the use of high-frequency sound waves to create images of the blood vessels and measure the speed and direction of blood flow. The technique is commonly used to diagnose and monitor conditions such as peripheral arterial disease, deep vein thrombosis, and varicose veins.', response_metadata={'token_usage': {'completion_tokens': 103, 'prompt_tokens': 18, 'total_tokens': 121}, 'model_name': 'solar-1-mini-chat', 'system_fingerprint': None, 'finish_reason': 'stop', 'logprobs': None}, id='run-fffeedc9-7eaf-4f4e-8825-150542f51c0d-0')"
      ]
     },
     "execution_count": 10,
     "metadata": {},
     "output_type": "execute_result"
    }
   ],
   "source": [
    "# Cannot say \"I don't know\" :-)\n",
    "# Because it is trained to complete the sentence and try to answer the question\n",
    "llm.invoke(\"What is Upstage DUS technique?\")"
   ]
  },
  {
   "cell_type": "markdown",
   "metadata": {},
   "source": [
    "## RAG\n",
    "Provide context and allow the language model to respond within that context only.\n",
    "![Overview](./figures/rag.png)"
   ]
  },
  {
   "cell_type": "markdown",
   "metadata": {},
   "source": [
    "# Leveraging Layout Analyzer and LangChain for Efficient Text Splitting and Vectorization\n",
    "\n",
    "- Upstage Layout Analyzer extracts layouts, tables, and figures from any document\n",
    "- LangChain provides powerful tools for text splitting and vectorization\n",
    "![Layout Analyzer](./figures/la.png)"
   ]
  },
  {
   "cell_type": "code",
   "execution_count": 11,
   "metadata": {},
   "outputs": [],
   "source": [
    "from langchain_upstage import (\n",
    "    UpstageLayoutAnalysisLoader,\n",
    "    UpstageGroundednessCheck,\n",
    "    ChatUpstage,\n",
    "    UpstageEmbeddings,\n",
    ")\n",
    "from langchain_chroma import Chroma\n",
    "from langchain.text_splitter import RecursiveCharacterTextSplitter\n",
    "\n",
    "\n",
    "layzer = UpstageLayoutAnalysisLoader(\"pdfs/solar_paper.pdf\", output_type=\"html\")\n",
    "# For improved memory efficiency, consider using the lazy_load method to load documents page by page.\n",
    "docs = layzer.load()  # or layzer.lazy_load()"
   ]
  },
  {
   "cell_type": "code",
   "execution_count": 12,
   "metadata": {},
   "outputs": [
    {
     "name": "stdout",
     "output_type": "stream",
     "text": [
      "(\"<p id='0' style='font-size:20px'>SOLAR 10.7B: Scaling Large Language Models \"\n",
      " 'with Simple yet Effectiv')\n"
     ]
    }
   ],
   "source": [
    "for doc in docs:\n",
    "    pprint(doc.page_content[:100])"
   ]
  },
  {
   "cell_type": "code",
   "execution_count": 13,
   "metadata": {},
   "outputs": [
    {
     "data": {
      "text/html": [
       "<p id='0' style='font-size:20px'>SOLAR 10.7B: Scaling Large Language Models with Simple yet Effective<br>Depth Up-Scaling</p><br><p id='1' style='font-size:18px'>Dahyun Kim ∗ , Chanjun Park ∗† , Sanghoon Kim ∗† , Wonsung Lee ∗† , Wonho Song ∗<br>Yunsu Kim ∗ , Hyeonwoo Kim ∗ , Yungi Kim, Hyeonju Lee, Jihoo Kim<br>Changbae Ahn, Seonghoon Yang, Sukyung Lee, Hyunbyung Park, Gyoungjin Gim<br>Mikyoung Cha, Hwalsuk Lee † , Sunghun Kim †</p><br><p id='2' style='font-size:18px'>Upstage AI, South Korea</p><br><p id='3' style='font-size:14px'>{kdahyun, chanjun.park, limerobot, wonsung.lee, hwalsuk.lee, hunkim}@upstage.ai</p><br><p id='4' style='font-size:20px'>Abstract</p><br><p id='5' style='font-size:16px'>We introduce SOLAR 10.7B, a large language<br>model (LLM) with 10.7 billion parameters,<br>demonstrating superior performance in various<br>natural language processing (NLP) tasks. In-<br>spired by recent efforts to efficiently up-scale<br>LLMs, we present a method for scaling LLMs<br>called "
      ],
      "text/plain": [
       "<IPython.core.display.HTML object>"
      ]
     },
     "metadata": {},
     "output_type": "display_data"
    }
   ],
   "source": [
    "from IPython.display import display, HTML\n",
    "\n",
    "display(HTML(docs[0].page_content[:1000]))"
   ]
  },
  {
   "cell_type": "markdown",
   "metadata": {},
   "source": [
    "## Retrieval Augmented Generation (RAG) for Question Answering\n",
    "\n",
    "- RAG combines retrieval and generation to enhance LLM performance on specific tasks\n",
    "- Relevant context is retrieved from external data sources and added to the prompt\n",
    "- The augmented prompt is then passed to the LLM for generating a response\n",
    "- RAG is particularly useful for question answering on custom datasets"
   ]
  },
  {
   "cell_type": "code",
   "execution_count": 14,
   "metadata": {},
   "outputs": [
    {
     "name": "stdout",
     "output_type": "stream",
     "text": [
      "RESPONSE1\n",
      " The performance comparison amongst the merge candidates is presented in Table 6. The table includes two merge candidates: 'Cand. 1' and 'Cand. 2'. 'Cand. 1' and 'Cand. 2' are trained using the same setting as 'DPO v2' and 'DPO v3', respectively, but with slightly different hyper-parameters to maximize each model's respective strengths. The table shows the scores for the H6 average and six individual tasks for both merge candidates. The best scores for H6 and the individual tasks are shown in bold.\n"
     ]
    }
   ],
   "source": [
    "# More general chat\n",
    "rag_with_history_prompt = ChatPromptTemplate.from_messages(\n",
    "    [\n",
    "        (\n",
    "            \"system\",\n",
    "            \"\"\"\n",
    "You are an assistant for question-answering tasks. \n",
    "Use the following pieces of retrieved context to answer the question considering the history of the conversation. \n",
    "If you don't know the answer, just say that you don't know. \n",
    "---\n",
    "CONTEXT:\n",
    "{context}\n",
    "         \"\"\",\n",
    "        ),\n",
    "        MessagesPlaceholder(variable_name=\"history\"),\n",
    "        (\"human\", \"{input}\"),\n",
    "    ]\n",
    ")\n",
    "\n",
    "from langchain_core.messages import AIMessage, HumanMessage\n",
    "\n",
    "history = []\n",
    "\n",
    "chain = rag_with_history_prompt | llm | StrOutputParser()\n",
    "query1 = \"Performance comparison amongst the merge candidate\"\n",
    "response1 = chain.invoke({\"history\": history, \"context\": docs, \"input\": query1})\n",
    "print(\"RESPONSE1\\n\", response1)"
   ]
  },
  {
   "cell_type": "code",
   "execution_count": 15,
   "metadata": {},
   "outputs": [
    {
     "name": "stdout",
     "output_type": "stream",
     "text": [
      "RESPONSE2\n",
      " Ablation studies are a method used in machine learning to understand the impact of different components or parameters in a model. In the context of the paper you provided, the authors conducted ablation studies to understand the effect of different training datasets and model merging strategies on the performance of their large language model (LLM).\n",
      "\n",
      "For the instruction tuning stage, the authors conducted ablation studies using different training datasets. They used three datasets: Alpaca-GPT4, OpenOrca, and Synth. Math-Instruct. They trained four ablated models, named 'SFT v1', 'SFT v2', 'SFT v3', and 'SFT v4', using different combinations of these datasets. The results showed that using the Alpaca-GPT4 dataset alone (SFT v1) resulted in a H6 score of 69.15. Adding the OpenOrca dataset (SFT v2) did not significantly change the performance, but using the Synth. Math-Instruct dataset (SFT v3 and SFT v4) improved the performance, with SFT v4 achieving the highest H6 score of 70.88.\n",
      "\n",
      "The authors also conducted ablation studies on the alignment tuning stage, using different training datasets during the direct preference optimization (DPO) stage. They used two datasets: Ultrafeedback Clean and Synth. Math-Alignment. They trained two ablated models, named 'DPO v1' and 'DPO v2', using different combinations of these datasets. The results showed that using the Ultrafeedback Clean dataset alone (DPO v1) resulted in a H6 score of 73.06, while adding the Synth. Math-Alignment dataset (DPO v2) improved the performance to a H6 score of 73.42.\n",
      "\n",
      "Additionally, the authors conducted ablation studies on the SFT base models used during the DPO stage. They used two SFT base models: 'SFT v3' and 'SFT v3+v4'. They trained two ablated models, named 'DPO v2' and 'DPO v3', using these SFT base models. The results showed that using 'SFT v3+v4' as the SFT base model improved the performance over using 'SFT v3' alone.\n",
      "\n",
      "Lastly, the authors conducted ablation studies on the model merging strategy to obtain the final alignment-tuned model. They trained two merge candidates, named 'Cand. 1' and 'Cand. 2', using different hyper-parameters to maximize each model's respective strengths. They merged these two models using two different methods: average and SLERP. The results showed that the different merge methods had little effect on the H6 scores, suggesting that as long as the merge candidates have sufficiently different strengths, the exact merge method may not be as crucial.\n"
     ]
    }
   ],
   "source": [
    "history = [HumanMessage(query1), AIMessage(response1)]\n",
    "query2 = \"How about Ablation studies?\"\n",
    "response2 = chain.invoke({\"history\": history, \"context\": docs, \"input\": query2})\n",
    "print(\"RESPONSE2\\n\", response2)"
   ]
  },
  {
   "cell_type": "code",
   "execution_count": 16,
   "metadata": {},
   "outputs": [],
   "source": [
    "# Let's load something big\n",
    "layzer = UpstageLayoutAnalysisLoader(\"pdfs/kim-tse-2008.pdf\", output_type=\"html\", use_ocr=True)\n",
    "# For improved memory efficiency, consider using the lazy_load method to load documents page by page.\n",
    "docs = layzer.load()  # or layzer.lazy_load()"
   ]
  },
  {
   "cell_type": "markdown",
   "metadata": {},
   "source": [
    "###  RAG Limitations\n",
    "- LLM does not have long enough context length\n",
    "- Sending long, irrelevant info is inefficient"
   ]
  },
  {
   "cell_type": "code",
   "execution_count": 17,
   "metadata": {},
   "outputs": [
    {
     "name": "stdout",
     "output_type": "stream",
     "text": [
      "Error code: 400 - {'error': {'message': \"This model's maximum context length is 32768 tokens. However, your messages resulted in 34287 tokens. Please reduce the length of the messages.\", 'type': 'invalid_request_error', 'param': 'messages', 'code': 'context_length_exceeded'}}\n"
     ]
    }
   ],
   "source": [
    "chain = rag_with_history_prompt | llm | StrOutputParser()\n",
    "query1 = \"What is bug classification?\"\n",
    "\n",
    "try:\n",
    "    response1 = chain.invoke({\"history\": history, \"context\": docs, \"input\": query1})\n",
    "    print(response1)\n",
    "except Exception as e:\n",
    "    print(e)"
   ]
  },
  {
   "cell_type": "code",
   "execution_count": 18,
   "metadata": {},
   "outputs": [
    {
     "name": "stdout",
     "output_type": "stream",
     "text": [
      "101558\n"
     ]
    }
   ],
   "source": [
    "print(len(docs[0].page_content))"
   ]
  },
  {
   "cell_type": "code",
   "execution_count": 19,
   "metadata": {},
   "outputs": [],
   "source": [
    "from tokenizers import Tokenizer\n",
    "\n",
    "tokenizer = Tokenizer.from_pretrained(\"upstage/solar-1-mini-tokenizer\")"
   ]
  },
  {
   "cell_type": "code",
   "execution_count": 20,
   "metadata": {},
   "outputs": [
    {
     "name": "stdout",
     "output_type": "stream",
     "text": [
      "Encoded input: ['<|startoftext|>', '▁Nice', '▁to', '▁meet', '▁you', '.', '▁I', '▁am', '▁Solar', '▁LL', 'M', ',', '▁a', '▁large', '▁language', '▁model', '▁developed', '▁by', '▁Up', 'stage', '.', '▁If', '▁you', '▁have', '▁any', '▁questions', ',', '▁please', '▁feel', '▁free', '▁to', '▁ask', '.']\n",
      "Number of tokens: 33\n"
     ]
    }
   ],
   "source": [
    "text = \"Nice to meet you. I am Solar LLM, a large language model developed by Upstage. If you have any questions, please feel free to ask.\"\n",
    "\n",
    "enc = tokenizer.encode(text)\n",
    "print(\"Encoded input:\", enc.tokens)\n",
    "\n",
    "number_of_tokens = len(enc.tokens)\n",
    "print(\"Number of tokens:\", number_of_tokens)"
   ]
  },
  {
   "cell_type": "code",
   "execution_count": 21,
   "metadata": {},
   "outputs": [
    {
     "name": "stdout",
     "output_type": "stream",
     "text": [
      "Encoded input: ['<|startoftext|>', '▁만나', '서', '▁반가', '워', '요', '.', '▁저는', '▁Up', 'stage', '에서', '▁개발한', '▁대규모', '▁언어', '▁모델', '인', '▁Solar', '▁LL', 'M', '▁입니다', '.', '▁궁금한', '▁것이', '▁있으', '시면', '▁무엇이', '든', '▁물어', '보세요', '.']\n",
      "Number of tokens: 30\n"
     ]
    }
   ],
   "source": [
    "text = \"만나서 반가워요. 저는 Upstage에서 개발한 대규모 언어 모델인 Solar LLM 입니다. 궁금한 것이 있으시면 무엇이든 물어보세요.\"\n",
    "enc = tokenizer.encode(text)\n",
    "print(\"Encoded input:\", enc.tokens)\n",
    "\n",
    "number_of_tokens = len(enc.tokens)\n",
    "print(\"Number of tokens:\", number_of_tokens)"
   ]
  },
  {
   "cell_type": "code",
   "execution_count": 22,
   "metadata": {},
   "outputs": [
    {
     "name": "stdout",
     "output_type": "stream",
     "text": [
      "Encoded input: ['<|startoftext|>', '▁만나', '서', '▁반가', '워', '요', '.', '▁저는', '▁Up', 'stage', '에서', '▁개발한', '▁대규모', '▁언어', '▁모델', '인', '▁Solar', '▁LL', 'M', '▁입니다', '.', '▁궁금한', '▁것이', '▁있으', '시면', '▁무엇이', '든', '▁물어', '보세요', '.']\n",
      "Number of tokens: 30\n"
     ]
    }
   ],
   "source": [
    "enc = tokenizer.encode(text)\n",
    "print(\"Encoded input:\", enc.tokens)\n",
    "\n",
    "number_of_tokens = len(enc.tokens)\n",
    "print(\"Number of tokens:\", number_of_tokens)"
   ]
  },
  {
   "cell_type": "code",
   "execution_count": 23,
   "metadata": {},
   "outputs": [],
   "source": [
    "def num_of_tokens(text):\n",
    "    return len(tokenizer.encode(text).tokens)"
   ]
  },
  {
   "cell_type": "code",
   "execution_count": 24,
   "metadata": {},
   "outputs": [
    {
     "name": "stdout",
     "output_type": "stream",
     "text": [
      "ENG 33\n",
      "KOR 30\n"
     ]
    }
   ],
   "source": [
    "print(\n",
    "    \"ENG\",\n",
    "    num_of_tokens(\n",
    "        \"Nice to meet you. I am Solar LLM, a large language model developed by Upstage. If you have any questions, please feel free to ask.\"\n",
    "    ),\n",
    ")\n",
    "print(\n",
    "    \"KOR\",\n",
    "    num_of_tokens(\n",
    "        \"만나서 반가워요. 저는 Upstage에서 개발한 대규모 언어 모델인 Solar LLM 입니다. 궁금한 것이 있으시면 무엇이든 물어보세요.\"\n",
    "    ),\n",
    ")"
   ]
  },
  {
   "cell_type": "code",
   "execution_count": 25,
   "metadata": {},
   "outputs": [
    {
     "name": "stdout",
     "output_type": "stream",
     "text": [
      "String length 101558\n",
      "Number of tokens 33294\n"
     ]
    }
   ],
   "source": [
    "# Recall\n",
    "# Let's load something big\n",
    "# layzer = UpstageLayoutAnalysisLoader(\"pdfs/kim-tse-2008.pdf\", output_type=\"html\")\n",
    "# For improved memory efficiency, consider using the lazy_load method to load documents page by page.\n",
    "# docs = layzer.load()  # or layzer.lazy_load()\n",
    "print(\"String length\", len(docs[0].page_content))\n",
    "print(\"Number of tokens\", num_of_tokens(docs[0].page_content))"
   ]
  },
  {
   "cell_type": "markdown",
   "metadata": {},
   "source": [
    "## Efficient Text Splitting and Indexing with LangChain\n",
    "\n",
    "### 1. Load Documents\n",
    "\n",
    "The first step is to load the source documents that will be used to augment the language model's knowledge\n",
    "This could be done by reading files from disk, pulling from a database, scraping web pages, etc.\n",
    "The goal is to get the raw text content into a format that can be further processed\n",
    "\n",
    "### 2. Chunking/Splitting\n",
    "\n",
    "* Long documents need to be broken down into smaller chunks that are a manageable size for embedding and retrieval\n",
    "Common approaches include:\n",
    "  * Fixed-size chunking - split text into equal sized chunks based on character or token count \n",
    "  * Semantic chunking - split based on semantic boundaries like sentences, paragraphs, or sections\n",
    "  * Hierarchical chunking - create chunks at multiple levels of granularity\n",
    "The ideal chunk size depends on the embedding model, retrieval use case, and downstream task\n",
    "\n",
    "### 3. Embedding & Indexing\n",
    "\n",
    "* The text chunks are converted to vector embeddings using a model like Upstage embeddings\n",
    "* The embeddings are indexed and stored in a vector database to enable efficient similarity search \n",
    "* Metadata about the source chunks can also be stored alongside the embeddings\n",
    "\n",
    "### 4. Retrieval\n",
    "\n",
    "* At query time, the user's question is itself embedded as a query vector\n",
    "* The query embedding is used to find the most similar document chunks in the vector index \n",
    "* Top-k most relevant chunks are retrieved and can be used to augment the prompt sent to the language model to generate an answer"
   ]
  },
  {
   "cell_type": "code",
   "execution_count": 26,
   "metadata": {},
   "outputs": [
    {
     "name": "stdout",
     "output_type": "stream",
     "text": [
      "Splits: 122\n"
     ]
    }
   ],
   "source": [
    "# RAG 1. load doc (done), 2. chunking, splits, 3. embeding - indexing, 4. retrieve\n",
    "\n",
    "# 2. Split\n",
    "text_splitter = RecursiveCharacterTextSplitter(chunk_size=1000, chunk_overlap=100)\n",
    "splits = text_splitter.split_documents(docs)\n",
    "print(\"Splits:\", len(splits))"
   ]
  },
  {
   "cell_type": "code",
   "execution_count": 27,
   "metadata": {},
   "outputs": [
    {
     "data": {
      "image/png": "[encoded data removed]",
      "text/plain": [
       "<Figure size 640x480 with 1 Axes>"
      ]
     },
     "metadata": {},
     "output_type": "display_data"
    }
   ],
   "source": [
    "import matplotlib.pyplot as plt\n",
    "\n",
    "split_lengths = [len(split.page_content) for split in splits]\n",
    "\n",
    "# Create a bar graph\n",
    "plt.bar(range(len(split_lengths)), split_lengths)\n",
    "plt.title(\"RecursiveCharacterTextSplitter\")\n",
    "plt.xlabel(\"Split Index\")\n",
    "plt.ylabel(\"Split Content Length\")\n",
    "plt.xticks(range(len(split_lengths)), [])\n",
    "plt.show()"
   ]
  },
  {
   "cell_type": "code",
   "execution_count": 28,
   "metadata": {},
   "outputs": [
    {
     "name": "stdout",
     "output_type": "stream",
     "text": [
      "CPU times: user 3.84 s, sys: 124 ms, total: 3.97 s\n",
      "Wall time: 18.2 s\n"
     ]
    }
   ],
   "source": [
    "%%time\n",
    "# 3. Embed & indexing\n",
    "vectorstore = Chroma.from_documents(documents=splits, embedding=UpstageEmbeddings(model=\"solar-embedding-1-large\", embed_batch_size=100))"
   ]
  },
  {
   "cell_type": "code",
   "execution_count": 29,
   "metadata": {},
   "outputs": [
    {
     "name": "stdout",
     "output_type": "stream",
     "text": [
      "3\n",
      "change data to train a classifica-<br>tion model. As discussed in Section 8.3, the change</p><p id='\n"
     ]
    }
   ],
   "source": [
    "# 4. retrive\n",
    "retriever = vectorstore.as_retriever(search_kwargs={\"k\": 3})\n",
    "result_docs = retriever.invoke(\"What is Bug Classification?\")\n",
    "print(len(result_docs))\n",
    "print(result_docs[0].page_content[:100])"
   ]
  },
  {
   "cell_type": "markdown",
   "metadata": {},
   "source": [
    "![Overview](./figures/semantic_chunker.png)"
   ]
  },
  {
   "cell_type": "code",
   "execution_count": 30,
   "metadata": {},
   "outputs": [],
   "source": [
    "# 2-2. SemanticChunker Split\n",
    "from langchain_community.utils.math import cosine_similarity\n",
    "from langchain.docstore.document import Document\n",
    "\n",
    "\n",
    "def semantic_chunker(\n",
    "    docs,\n",
    "    min_chunk_size=100,\n",
    "    chunk_overlap=10,\n",
    "    max_chunk_size=1000,\n",
    "    merge_threshold=0.7,\n",
    "    embeddings=UpstageEmbeddings(model=\"solar-embedding-1-large\", embed_batch_size=100),\n",
    "):\n",
    "    text_splitter = RecursiveCharacterTextSplitter(\n",
    "        chunk_size=min_chunk_size, chunk_overlap=chunk_overlap\n",
    "    )\n",
    "    init_splits = text_splitter.split_documents(docs)\n",
    "    splits = []\n",
    "\n",
    "    base_split_text = None\n",
    "    base_split_emb = None\n",
    "    for split in init_splits:\n",
    "        if base_split_text is None:\n",
    "            base_split_text = split.page_content\n",
    "            base_split_emb = embeddings.embed_query(base_split_text)\n",
    "            continue\n",
    "\n",
    "        split_emb = embeddings.embed_query(split.page_content)\n",
    "        distance = cosine_similarity(X=[base_split_emb], Y=[split_emb])\n",
    "        if (\n",
    "            distance[0][0] < merge_threshold\n",
    "            or len(base_split_text) + len(split.page_content) > max_chunk_size\n",
    "        ):\n",
    "            splits.append(Document(page_content=base_split_text))\n",
    "            base_split_text = split.page_content\n",
    "            base_split_emb = split_emb\n",
    "        else:\n",
    "            base_split_text += split.page_content\n",
    "\n",
    "    if base_split_text:\n",
    "        splits.append(Document(page_content=base_split_text))\n",
    "\n",
    "    return splits"
   ]
  },
  {
   "cell_type": "markdown",
   "metadata": {},
   "source": [
    "## HuggingFaceEmbeddings\n",
    "Since it's just an approximation, it's acceptable to use very light embedding models like KLUE, https://huggingface.co/klue."
   ]
  },
  {
   "cell_type": "code",
   "execution_count": 31,
   "metadata": {},
   "outputs": [
    {
     "name": "stderr",
     "output_type": "stream",
     "text": [
      "No sentence-transformers model found with name klue/roberta-small. Creating a new one with MEAN pooling.\n",
      "Some weights of RobertaModel were not initialized from the model checkpoint at klue/roberta-small and are newly initialized: ['roberta.pooler.dense.bias', 'roberta.pooler.dense.weight']\n",
      "You should probably TRAIN this model on a down-stream task to be able to use it for predictions and inference.\n"
     ]
    },
    {
     "name": "stdout",
     "output_type": "stream",
     "text": [
      "CPU times: user 2.31 s, sys: 6.29 s, total: 8.6 s\n",
      "Wall time: 2.02 s\n"
     ]
    }
   ],
   "source": [
    "%%time\n",
    "from langchain_community.embeddings import HuggingFaceEmbeddings\n",
    "hfembeddings = HuggingFaceEmbeddings(model_name=\"klue/roberta-small\")"
   ]
  },
  {
   "cell_type": "code",
   "execution_count": 32,
   "metadata": {},
   "outputs": [
    {
     "name": "stdout",
     "output_type": "stream",
     "text": [
      "SemanticChunker Splits: 227\n",
      "CPU times: user 16.9 s, sys: 1.57 s, total: 18.5 s\n",
      "Wall time: 18.9 s\n"
     ]
    }
   ],
   "source": [
    "%%time\n",
    "semantic_splits = semantic_chunker(docs,  merge_threshold=0.8, embeddings=hfembeddings)\n",
    "print(\"SemanticChunker Splits:\", len(semantic_splits))"
   ]
  },
  {
   "cell_type": "code",
   "execution_count": 33,
   "metadata": {},
   "outputs": [
    {
     "data": {
      "image/png": "[encoded data removed]",
      "text/plain": [
       "<Figure size 640x480 with 1 Axes>"
      ]
     },
     "metadata": {},
     "output_type": "display_data"
    }
   ],
   "source": [
    "import matplotlib.pyplot as plt\n",
    "\n",
    "split_lengths = [num_of_tokens(split.page_content) for split in semantic_splits]\n",
    "\n",
    "# Create a bar graph\n",
    "plt.bar(range(len(split_lengths)), split_lengths)\n",
    "plt.xlabel(\"Split Index\")\n",
    "plt.ylabel(\"Split Content Length\")\n",
    "plt.title(\"Semantic Chunker Split Page Content Lengths\")\n",
    "plt.xticks(range(len(split_lengths)), [])\n",
    "plt.show()"
   ]
  },
  {
   "cell_type": "markdown",
   "metadata": {},
   "source": [
    "## ChromaParallel Class: Parallel Document Embedding\n",
    "The ChromaParallel class is an extension of the Chroma class to enable parallel processing of document embedding and storage using multiple worker processes."
   ]
  },
  {
   "cell_type": "code",
   "execution_count": 34,
   "metadata": {},
   "outputs": [],
   "source": [
    "import asyncio\n",
    "\n",
    "\n",
    "class ChromaParallel(Chroma):\n",
    "\n",
    "    async def afrom_documents(documents, embedding, num_workers=2):\n",
    "        db = Chroma(embedding_function=embedding)\n",
    "        # create list of num_workers empty lists\n",
    "        doc_groups = [[] for _ in range(num_workers)]\n",
    "\n",
    "        for i in range(len(documents)):\n",
    "            doc_groups[i % num_workers].append(documents[i])\n",
    "\n",
    "        tasks = [db.aadd_documents(group) for group in doc_groups]\n",
    "        await asyncio.gather(*tasks)\n",
    "        return db"
   ]
  },
  {
   "cell_type": "code",
   "execution_count": 35,
   "metadata": {},
   "outputs": [
    {
     "name": "stdout",
     "output_type": "stream",
     "text": [
      "page_content=\"id='36' style='font-size:22px'>8.1 Potential Applications of Change Classification</p><br><pid='37' style='font-size:18px'>Right now, the buggy change classifier operates in a<br>laboratoryenvironment. However, it could potentially be<br>put into use in various ways:</p><p id='38'id='38' style='font-size:18px'>● A commit checker. The classifier identifies buggy<br>changes\"\n",
      "Wall time: 7.88 sec\n"
     ]
    }
   ],
   "source": [
    "import asyncio\n",
    "import time\n",
    "\n",
    "now = time.time()\n",
    "# 3. Embed & indexing\n",
    "loop = asyncio.get_event_loop()\n",
    "semantic_vectorstore = await ChromaParallel.afrom_documents(\n",
    "    documents=semantic_splits, embedding=UpstageEmbeddings(model=\"solar-embedding-1-large\", embed_batch_size=100), num_workers=3\n",
    ")\n",
    "semantic_retriever = semantic_vectorstore.as_retriever(search_kwargs={\"k\": 3})\n",
    "\n",
    "# 4. retrive\n",
    "result_docs = semantic_retriever.invoke(\"What is Bug Classification?\")\n",
    "print(result_docs[1])\n",
    "print(f\"Wall time: {time.time() - now:.2f} sec\")"
   ]
  },
  {
   "cell_type": "code",
   "execution_count": 36,
   "metadata": {},
   "outputs": [
    {
     "name": "stdout",
     "output_type": "stream",
     "text": [
      "Bug classification is a process where software changes are categorized as either buggy or clean. This process involves training a machine learning model to distinguish between changes that introduce bugs and those that do not. The model is trained on a dataset of labeled software changes, where each change is marked as either buggy or clean. The model learns from this labeled data to identify patterns and features that are indicative of buggy changes.\n",
      "\n",
      "The bug classification process typically involves the following steps:\n",
      "\n",
      "1. Data collection: Gather a dataset of software changes, along with their corresponding labels indicating whether they are buggy or clean.\n",
      "\n",
      "2. Feature engineering: Extract relevant features from the software changes that can help the model differentiate between buggy and clean changes. These features may include code metrics, code churn, commit messages, or other relevant information.\n",
      "\n",
      "3. Model training: Train a machine learning model using the labeled dataset and the extracted features. Commonly used algorithms for bug classification include decision trees, random forests, and neural networks.\n",
      "\n",
      "4. Model evaluation: Evaluate the performance of the trained model using appropriate metrics, such as accuracy, precision, recall, and F1 score. This step helps to assess how well the model can classify buggy and clean changes.\n",
      "\n",
      "5. Model deployment: Once the model has been trained and evaluated, it can be deployed to classify new software changes in real-time. The model can be integrated into the development workflow, providing developers with feedback on the bugginess of their changes.\n",
      "\n",
      "In summary, bug classification is a process that involves training a machine learning model to identify buggy software changes based on extracted features. The model is trained on a labeled dataset, evaluated for performance, and then deployed to classify new changes in real-time.\n"
     ]
    }
   ],
   "source": [
    "# Finally query using RAG\n",
    "query = \"What is bug classification? How it works?\"\n",
    "result_docs = semantic_retriever.invoke(query)\n",
    "\n",
    "gc_result = chain.invoke({\"history\": history, \"context\": result_docs, \"input\": query})\n",
    "print(gc_result)"
   ]
  },
  {
   "cell_type": "code",
   "execution_count": 37,
   "metadata": {},
   "outputs": [
    {
     "name": "stdout",
     "output_type": "stream",
     "text": [
      "Bug classification is beneficial for several reasons:\n",
      "\n",
      "1. Improved code quality: By identifying buggy changes early in the development process, developers can fix issues before they cause larger problems. This leads to higher code quality and more reliable software.\n",
      "\n",
      "2. Reduced debugging time: With a bug classification model in place, developers can spend less time debugging and more time on feature development. This can significantly increase productivity and speed up the software development process.\n",
      "\n",
      "3. Enhanced collaboration: Bug classification models can provide valuable feedback to developers, helping them understand the potential impact of their changes on the overall codebase. This can lead to better collaboration and code review practices within development teams.\n",
      "\n",
      "4. Proactive bug detection: Bug classification models can predict which changes are more likely to introduce bugs, allowing developers to focus their efforts on those areas. This proactive approach to bug detection can help prevent issues from occurring in the first place.\n",
      "\n",
      "5. Scalability: As the codebase grows, manually reviewing every change for potential bugs becomes increasingly difficult. Bug classification models can scale to handle larger codebases and provide consistent, accurate bug detection across a wide range of changes.\n",
      "\n",
      "Overall, bug classification is a valuable tool for improving software quality, reducing debugging time, and enhancing collaboration within development teams.\n"
     ]
    }
   ],
   "source": [
    "history = [HumanMessage(query), AIMessage(gc_result)]\n",
    "\n",
    "query = \"Why it is good?\"\n",
    "result_docs = semantic_retriever.invoke(query)\n",
    "\n",
    "gc_result = chain.invoke({\"history\": history, \"context\": result_docs, \"input\": query})\n",
    "print(gc_result)"
   ]
  },
  {
   "cell_type": "markdown",
   "metadata": {},
   "source": [
    "## RAG Evaluation using Ragas \n",
    "![ragas](figures/ragas.png)\n",
    "RAGAS is a framework that helps evaluate Retrieval Augmented Generation (RAG) pipelines. We generate questions from context and retrieve from a vector database. Then, we measure retrieval precision and recall.\n",
    "\n",
    "We use solar llm to create questions and to judge them as well."
   ]
  },
  {
   "cell_type": "code",
   "execution_count": 38,
   "metadata": {},
   "outputs": [
    {
     "name": "stdout",
     "output_type": "stream",
     "text": [
      "('{\"keyphrases\": [\"Software Changes\", \"Bug Prediction\", \"Change '\n",
      " 'Classification\", \"Machine Learning Classifier\", \"Software Configuration '\n",
      " 'Management Repository\", \"Feature Extraction\", \"Support Vector Machine '\n",
      " '(SVM)\", \"Performance Evaluation\", \"Feature Importance\"]}')\n",
      "['What is the main objective of the change classification technique presented '\n",
      " 'in the paper, and how does it differ from other bug prediction techniques?',\n",
      " 'What is the main goal of change classification, and how does it differ from '\n",
      " 'other bug prediction techniques in software engineering?',\n",
      " 'What is the main technique introduced in the paper for predicting latent '\n",
      " 'software bugs, and how does it work?',\n",
      " 'What is the main goal of change classification, and how does it aim to '\n",
      " 'achieve this goal?',\n",
      " 'What is the change classification technique and how does it work?',\n",
      " 'What is the key insight behind the change classification technique for '\n",
      " 'predicting bugs in file-level software changes, and how does it differ from '\n",
      " 'traditional bug prediction techniques?',\n",
      " 'How does change classification work in terms of predicting bugs in software '\n",
      " 'changes, and what are the key steps involved in the process?',\n",
      " 'What is the main objective of change classification, and how does it differ '\n",
      " 'from traditional bug prediction techniques?',\n",
      " 'What is the main goal of change classification, and how is it achieved?',\n",
      " 'What is the main goal of the change classification technique introduced in '\n",
      " 'the paper?']\n"
     ]
    }
   ],
   "source": [
    "# https://github.com/explodinggradients/ragas/blob/main/src/ragas/testset/prompts.py\n",
    "from ragas.testset.prompts import keyphrase_extraction_prompt, seed_question_prompt\n",
    "from langchain_core.prompts import PromptTemplate\n",
    "\n",
    "\n",
    "def generate_questions(docs, n=10):\n",
    "    questions = []\n",
    "    chain = llm | StrOutputParser()\n",
    "\n",
    "    # Extract keyphrases\n",
    "    context = docs[0].page_content[:10000]\n",
    "    ragas_prompt = keyphrase_extraction_prompt.format(text=context)\n",
    "    keyphrase_extraction_results = chain.invoke(ragas_prompt.prompt_str)\n",
    "    pprint(keyphrase_extraction_results)\n",
    "\n",
    "    for _ in range(n):\n",
    "        ragas_prompt = seed_question_prompt.format(\n",
    "            keyphrase=keyphrase_extraction_results, context=context\n",
    "        )\n",
    "        questions_results = chain.invoke(ragas_prompt.prompt_str)\n",
    "        questions.append(questions_results)\n",
    "    return questions\n",
    "\n",
    "\n",
    "questions = generate_questions(docs)\n",
    "pprint(questions)"
   ]
  },
  {
   "cell_type": "code",
   "execution_count": 41,
   "metadata": {},
   "outputs": [
    {
     "name": "stdout",
     "output_type": "stream",
     "text": [
      "split_lengths 122\n",
      "semantic_split_lengths 227\n"
     ]
    }
   ],
   "source": [
    "from langchain_community.vectorstores import FAISS\n",
    "\n",
    "print(\"split_lengths\", len(splits))\n",
    "print(\"semantic_split_lengths\", len(semantic_splits))\n",
    "\n",
    "# 124 VS 250\n",
    "\n",
    "size_vectorstore = FAISS.from_documents(documents=splits, embedding=UpstageEmbeddings(model=\"solar-embedding-1-large\", embed_batch_size=100))\n",
    "size_split_retriever = size_vectorstore.as_retriever(search_kwargs={\"k\": 3})\n",
    "\n",
    "semantic_vectorstore = await ChromaParallel.afrom_documents(\n",
    "    documents=semantic_splits, embedding=UpstageEmbeddings(model=\"solar-embedding-1-large\", embed_batch_size=100), num_workers=3\n",
    ")\n",
    "\n",
    "semantic_split_retriever = semantic_vectorstore.as_retriever(search_kwargs={\"k\": 6})"
   ]
  },
  {
   "cell_type": "code",
   "execution_count": 42,
   "metadata": {},
   "outputs": [],
   "source": [
    "from ragas.testset.evolutions import DataRow\n",
    "from ragas.testset.generator import TestsetGenerator, TestDataset\n",
    "from tqdm.notebook import tqdm\n",
    "from datasets import Dataset\n",
    "\n",
    "size_split_data = {\n",
    "    \"question\": [],\n",
    "    \"answer\": [],\n",
    "    \"contexts\": [],\n",
    "    \"ground_truth\": [],\n",
    "}\n",
    "semantic_split_data = {\n",
    "    \"question\": [],\n",
    "    \"answer\": [],\n",
    "    \"contexts\": [],\n",
    "    \"ground_truth\": [],\n",
    "}\n",
    "\n",
    "\n",
    "def fill_data(data, question, retr):\n",
    "    results = retr.invoke(question)\n",
    "    context = [doc.page_content for doc in results]\n",
    "\n",
    "    # chain = rag_with_history_prompt | llm | StrOutputParser()\n",
    "    # answer = chain.invoke({\"history\": [], \"context\": context, \"input\": question})\n",
    "\n",
    "    data[\"question\"].append(question)\n",
    "    data[\"answer\"].append(\"\")\n",
    "    data[\"contexts\"].append(context)\n",
    "    data[\"ground_truth\"].append(\"\")\n",
    "\n",
    "\n",
    "for question in questions:\n",
    "    fill_data(size_split_data, question, size_split_retriever)\n",
    "    fill_data(semantic_split_data, question, semantic_split_retriever)\n",
    "\n",
    "\n",
    "size_split_dataset = Dataset.from_dict(size_split_data)\n",
    "semantic_split_dataset = Dataset.from_dict(semantic_split_data)"
   ]
  },
  {
   "cell_type": "code",
   "execution_count": 43,
   "metadata": {},
   "outputs": [],
   "source": [
    "from ragas.metrics import (\n",
    "    answer_relevancy,\n",
    "    faithfulness,\n",
    "    context_recall,\n",
    "    context_precision,\n",
    ")\n",
    "from ragas import evaluate\n",
    "\n",
    "\n",
    "def ragas_evalate(dataset):\n",
    "    result = evaluate(\n",
    "        dataset,\n",
    "        metrics=[\n",
    "            context_precision,\n",
    "            context_recall,\n",
    "            # answer_relevancy,\n",
    "            # faithfulness,\n",
    "        ],\n",
    "        llm=llm,\n",
    "        embeddings=UpstageEmbeddings(model=\"solar-embedding-1-large\", embed_batch_size=100),\n",
    "    )\n",
    "    return result"
   ]
  },
  {
   "cell_type": "code",
   "execution_count": 44,
   "metadata": {},
   "outputs": [
    {
     "name": "stderr",
     "output_type": "stream",
     "text": [
      "Evaluating:   0%|          | 0/20 [00:00<?, ?it/s]"
     ]
    },
    {
     "name": "stderr",
     "output_type": "stream",
     "text": [
      "Evaluating: 100%|██████████| 20/20 [00:14<00:00,  1.37it/s]\n"
     ]
    },
    {
     "name": "stdout",
     "output_type": "stream",
     "text": [
      "Size splits {'context_precision': 0.8417, 'context_recall': 1.0000}\n"
     ]
    },
    {
     "name": "stderr",
     "output_type": "stream",
     "text": [
      "Evaluating: 100%|██████████| 20/20 [00:12<00:00,  1.57it/s]\n"
     ]
    },
    {
     "name": "stdout",
     "output_type": "stream",
     "text": [
      "Semantic splits {'context_precision': 0.5000, 'context_recall': 1.0000}\n"
     ]
    }
   ],
   "source": [
    "print(\"Size splits\", ragas_evalate(size_split_dataset))\n",
    "print(\"Semantic splits\", ragas_evalate(semantic_split_dataset))"
   ]
  },
  {
   "cell_type": "markdown",
   "metadata": {},
   "source": [
    "## Explanation of the Code: Query Expander\n",
    "\n",
    "The provided code demonstrates a query expansion technique used in Retrieval Augmented Generation (RAG) systems. The main goal is to generate multiple variations of a given user query to retrieve relevant documents from a vector database more effectively. By generating different perspectives on the user query, the system aims to overcome some limitations of distance-based similarity search.\n",
    "\n",
    "The code defines a function called `query_expander` that takes a user query as input and returns a list of expanded queries. It uses three different query expansion templates:\n",
    "\n",
    "1. Multi Query: Generates five different versions of the user query to retrieve relevant documents from different perspectives.\n",
    "2. RAG-Fusion: Generates four related search queries based on the input query.\n",
    "3. Decomposition: Breaks down the input query into three sub-questions that can be answered in isolation.\n",
    "\n",
    "The expanded queries are generated using the LangChain library, specifically the `ChatUpstage` model, and the results are parsed using the `StrOutputParser`."
   ]
  },
  {
   "cell_type": "code",
   "execution_count": 45,
   "metadata": {},
   "outputs": [
    {
     "name": "stdout",
     "output_type": "stream",
     "text": [
      "['1. Can you explain the DUS methodology created by Upstage?',\n",
      " '2. What is the DUS approach developed by Upstage and how does it work?',\n",
      " '3. Can you provide an overview of the DUS technique developed by Upstage?',\n",
      " '4. How does the DUS approach developed by Upstage differ from other similar '\n",
      " 'methods?',\n",
      " '5. What are the key features of the DUS methodology developed by Upstage?',\n",
      " '1. \"DUS approach by Upstage: definition and explanation\"',\n",
      " '2. \"How does the DUS approach by Upstage differ from other methods?\"',\n",
      " '3. \"Real-world applications of the DUS approach developed by Upstage\"',\n",
      " '4. \"Case studies showcasing the effectiveness of the DUS approach by '\n",
      " 'Upstage\"',\n",
      " '1. What is the DUS approach in the context of Upstage?',\n",
      " '2. How does the DUS approach differ from other methods in its field?',\n",
      " '3. What are the key components and steps involved in the DUS approach '\n",
      " 'developed by Upstage?']\n"
     ]
    }
   ],
   "source": [
    "from langchain_upstage import ChatUpstage\n",
    "from langchain_core.output_parsers import StrOutputParser\n",
    "from langchain.prompts import ChatPromptTemplate\n",
    "\n",
    "\n",
    "def query_expander(query):\n",
    "    # Multi Query: Different Perspectives\n",
    "    multi_query_template = \"\"\"You are an AI language model assistant. Your task is to generate five \n",
    "    different versions of the given user question to retrieve relevant documents from a vector \n",
    "    database. By generating multiple perspectives on the user question, your goal is to help\n",
    "    the user overcome some of the limitations of the distance-based similarity search. \n",
    "    Provide these alternative questions separated by newlines. Original question: {query}\"\"\"\n",
    "\n",
    "    # RAG-Fusion: Related\n",
    "    rag_fusion_template = \"\"\"You are a helpful assistant that generates multiple search queries based on a single input query. \\n\n",
    "    Generate multiple search queries related to: {query} \\n\n",
    "    Output (4 queries):\"\"\"\n",
    "\n",
    "    # Decomposition\n",
    "    decomposition_template = \"\"\"You are a helpful assistant that generates multiple sub-questions related to an input question. \\n\n",
    "    The goal is to break down the input into a set of sub-problems / sub-questions that can be answers in isolation. \\n\n",
    "    Generate multiple search queries related to: {query} \\n\n",
    "    Output (3 queries):\"\"\"\n",
    "\n",
    "    query_expander_templates = [\n",
    "        multi_query_template,\n",
    "        rag_fusion_template,\n",
    "        decomposition_template,\n",
    "    ]\n",
    "\n",
    "    expanded_queries = []\n",
    "    for template in query_expander_templates:\n",
    "        prompt_perspectives = ChatPromptTemplate.from_template(template)\n",
    "\n",
    "        generate_queries = (\n",
    "            prompt_perspectives\n",
    "            | ChatUpstage(temperature=0)\n",
    "            | StrOutputParser()\n",
    "            | (lambda x: x.split(\"\\n\"))\n",
    "        )\n",
    "        expanded_queries += generate_queries.invoke({\"query\": query})\n",
    "\n",
    "    return expanded_queries\n",
    "\n",
    "\n",
    "expanded_queries = query_expander(\"What is the DUS approach developed by Upstage?\")\n",
    "pprint(expanded_queries)"
   ]
  },
  {
   "cell_type": "code",
   "execution_count": 46,
   "metadata": {},
   "outputs": [
    {
     "name": "stdout",
     "output_type": "stream",
     "text": [
      "Search for:  1. What is the process of categorizing bugs in software development?\n",
      "Search for:  2. How does bug classification benefit software development?\n",
      "Search for:  3. What are the different types of bugs and how are they classified?\n",
      "Search for:  4. What are the advantages of bug classification in software development?\n",
      "Search for:  5. How does bug classification help in identifying and fixing software issues?\n",
      "Search for:  1. \"Bug classification techniques\"\n",
      "Search for:  2. \"Importance of bug classification in software development\"\n",
      "Search for:  3. \"Bug classification tools and methodologies\"\n",
      "Search for:  4. \"Benefits of effective bug classification for software quality assurance\"\n",
      "Search for:  1. What is the definition of bug classification in software development?\n",
      "Search for:  2. What are the benefits of bug classification for software development teams?\n",
      "Search for:  3. How does bug classification contribute to efficient and effective software development processes?\n",
      "Search for:  What is bug classification? Why it is good?\n",
      "expended_result_docs 13\n",
      "Unique docs: 13\n",
      "Bug classification is a process in software development that involves categorizing software changes as either buggy or clean. This process helps in identifying and fixing software issues by providing a structured approach to managing and prioritizing bugs.\n",
      "\n",
      "The benefits of bug classification for software development teams include:\n",
      "\n",
      "1. Efficient bug tracking: By categorizing bugs, teams can better track and manage the bugs they encounter. This makes it easier to prioritize bug fixes and allocate resources effectively.\n",
      "\n",
      "2. Improved code quality: Bug classification can help developers understand the root causes of bugs and make necessary improvements to the codebase. This leads to better overall code quality and fewer bugs in the future.\n",
      "\n",
      "3. Enhanced collaboration: When bugs are classified, it becomes easier for team members to communicate and collaborate on bug fixes. Developers can quickly understand the nature of a bug and work together to resolve it.\n",
      "\n",
      "4. Faster bug resolution: By categorizing bugs, teams can more easily identify patterns and recurring issues. This allows them to focus on fixing the most critical bugs and resolve them more quickly.\n",
      "\n",
      "5. Better customer experience: By rapidly identifying and fixing bugs, teams can ensure that their software products are stable, reliable, and provide a better user experience. This can lead to increased customer satisfaction and loyalty.\n",
      "\n",
      "In summary, bug classification is good because it helps software development teams to efficiently track, manage, and resolve bugs. This leads to improved code quality, enhanced collaboration, faster bug resolution, and better customer experience.\n"
     ]
    }
   ],
   "source": [
    "# Finally query using RAG\n",
    "oroginal_query = \"What is bug classification? Why it is good?\"\n",
    "expanded_queries = query_expander(oroginal_query)\n",
    "expanded_queries.append(oroginal_query)\n",
    "\n",
    "expended_result_docs = []\n",
    "for query in expanded_queries:\n",
    "    print(\"Search for: \", query)\n",
    "    result_docs = retriever.invoke(query)\n",
    "    expended_result_docs.append(result_docs)\n",
    "\n",
    "# remove duplicates\n",
    "unique_docs = list(set(expanded_queries))\n",
    "print(\"expended_result_docs\", len(expended_result_docs))\n",
    "print(\"Unique docs:\", len(unique_docs))\n",
    "\n",
    "gc_result = chain.invoke(\n",
    "    {\"history\": history, \"context\": expanded_queries, \"input\": query}\n",
    ")\n",
    "print(gc_result)"
   ]
  },
  {
   "cell_type": "markdown",
   "metadata": {},
   "source": [
    "## Explanation of the Code: Smart Retrieval Augmented Generation (RAG)\n",
    "![smartRAG](./figures/a_in.png)\n",
    "\n",
    "### High-Level Overview\n",
    "\n",
    "The code demonstrates a smart Retrieval Augmented Generation (RAG) system that combines local retrieval with external search capabilities. The main goal is to provide relevant context for answering user questions by first searching a local vector database and then falling back to an external search service if the local context is insufficient.\n",
    "\n",
    "\n",
    "The code defines two main functions:\n",
    "\n",
    "\n",
    "  1. is_in: Determines whether the answer to a given question can be found within the provided context.\n",
    "smart_rag: Retrieves relevant context for a given question, either from the local vector database or an external search service, and generates an answer using the retrieved context.\n",
    "\n",
    "  1. The code uses the LangChain library for generating prompts and invoking language models, as well as the Tavily API for external search capabilities.\n",
    "\n",
    "\n",
    "### Detailed Explanation \n",
    "\n",
    "1. The code starts by defining the is_in function, which takes a question and context as input and determines whether the answer to the question can be found within the context.\n",
    "    * It defines a prompt template called is_in_conetxt that asks the language model to check if the answer is in the context and return \"yes\" or \"no\".\n",
    "    * The prompt template is used to create a ChatPromptTemplate object.\n",
    "    * A chain of operations is constructed using the | operator:\n",
    "      * The ChatPromptTemplate is passed to the ChatUpstage model.\n",
    "      * The model's output is parsed using the StrOutputParser.\n",
    "    * The chain is invoked with the question and context, and the response is stored in the response variable.\n",
    "    * The function returns True if the response starts with \"yes\" (case-insensitive), indicating that the answer is in the context.\n",
    "\n",
    "1. The code then demonstrates the usage of the is_in function with two example questions and their corresponding contexts retrieved from a retriever.\n",
    "\n",
    "1. Next, the code defines the smart_rag function, which takes a question as input and generates an answer using the retrieved context.\n",
    "    * It first retrieves the context for the question using the retriever.invoke method.\n",
    "    * If the is_in function determines that the answer is not in the retrieved context, it falls back to searching for additional context using the Tavily API.\n",
    "    * The retrieved context (either from the local retriever or Tavily) is stored in the context variable.\n",
    "    * A chain of operations is constructed using the | operator:\n",
    "      * The rag_with_history_prompt (not shown in the code snippet) is used as the prompt template.\n",
    "      * The prompt is passed to the llm language model.\n",
    "      * The model's output is parsed using the StrOutputParser.\n",
    "    * The chain is invoked with the conversation history, retrieved context, and the question, and the generated answer is returned.\n",
    "\n",
    "1. Finally, the code demonstrates the usage of the smart_rag function with two example questions:\n",
    "    * \"What is DUS?\": The answer is expected to be found in the local context.\n",
    "    * \"What's the population of San Francisco?\": The answer is not expected to be found in the local context, so it falls back to searching with Tavily.\n",
    "\n",
    "This code showcases how LangChain can be used to build a smart RAG system that combines local retrieval with external search capabilities. By first searching a local vector database and falling back to an external search service if needed, the system aims to provide relevant context for generating accurate answers to user questions."
   ]
  },
  {
   "cell_type": "code",
   "execution_count": 47,
   "metadata": {},
   "outputs": [],
   "source": [
    "# RAG or Search?\n",
    "def is_in(question, context):\n",
    "    is_in_conetxt = \"\"\" please determine if the context includes relevent information from the question. \n",
    "If the answer for the question is present in the context, please respond with \"yes\". \n",
    "If not, please respond with \"no\". \n",
    "Only provide \"yes\" or \"no\" and avoid including any additional information. \n",
    "Please do your best. Here is the question and the context:\n",
    "---\n",
    "CONTEXT: {context}\n",
    "---\n",
    "QUESTION: {question}\n",
    "---\n",
    "OUTPUT (yes or no):\"\"\"\n",
    "\n",
    "    is_in_prompt = PromptTemplate.from_template(is_in_conetxt)\n",
    "    chain = is_in_prompt | ChatUpstage() | StrOutputParser()\n",
    "\n",
    "    response = chain.invoke({\"history\": [], \"context\": context, \"question\": question})\n",
    "    print(response)\n",
    "    return response.lower().startswith(\"yes\")"
   ]
  },
  {
   "cell_type": "code",
   "execution_count": 48,
   "metadata": {},
   "outputs": [
    {
     "name": "stdout",
     "output_type": "stream",
     "text": [
      "no\n",
      "False\n"
     ]
    }
   ],
   "source": [
    "question = \"Can you tell me about Yi Sun-sin, a Korean admiral?\"\n",
    "context = semantic_split_retriever.invoke(question)\n",
    "print(is_in(question, context))"
   ]
  },
  {
   "cell_type": "code",
   "execution_count": 64,
   "metadata": {},
   "outputs": [
    {
     "name": "stdout",
     "output_type": "stream",
     "text": [
      "no\n",
      "False\n"
     ]
    }
   ],
   "source": [
    "question = \"How bug classification works?\"\n",
    "context = semantic_split_retriever.invoke(question)\n",
    "print(is_in(question, context))"
   ]
  },
  {
   "cell_type": "code",
   "execution_count": 50,
   "metadata": {},
   "outputs": [],
   "source": [
    "# Smart RAG, Self-Improving RAG\n",
    "from tavily import TavilyClient\n",
    "\n",
    "\n",
    "def smart_rag(question):\n",
    "    context = retriever.invoke(question)\n",
    "    if not is_in(question, context):\n",
    "        print(\"Searching in tavily\")\n",
    "        tavily = TavilyClient(api_key=os.environ[\"TAVILY_API_KEY\"])\n",
    "        context = tavily.search(query=question)\n",
    "\n",
    "    chain = rag_with_history_prompt | llm | StrOutputParser()\n",
    "    return chain.invoke({\"history\": history, \"context\": context, \"input\": question})"
   ]
  },
  {
   "cell_type": "code",
   "execution_count": 51,
   "metadata": {},
   "outputs": [
    {
     "name": "stdout",
     "output_type": "stream",
     "text": [
      "yes\n"
     ]
    },
    {
     "data": {
      "text/plain": [
       "'Bug classification is a process that involves categorizing software changes as either buggy or clean. This process helps developers identify changes that introduce bugs and those that do not. By classifying changes, developers can prioritize their efforts and focus on fixing bugs in the most critical areas of the codebase.\\n\\nTo perform bug classification, a machine learning model is trained on a dataset of labeled software changes. Each change is marked as either buggy or clean, and the model learns to differentiate between these two categories based on extracted features. These features may include code metrics, code churn, commit messages, or other relevant information.\\n\\nThe bug classification process typically involves the following steps:\\n\\n1. Data collection: Gather a dataset of software changes, along with their corresponding labels indicating whether they are buggy or clean.\\n\\n2. Feature engineering: Extract relevant features from the software changes that can help the model differentiate between buggy and clean changes.\\n\\n3. Model training: Train a machine learning model using the labeled dataset and the extracted features.\\n\\n4. Model evaluation: Evaluate the performance of the trained model using appropriate metrics, such as accuracy, precision, recall, and F1 score.\\n\\n5. Model deployment: Once the model has been trained and evaluated, it can be deployed to classify new software changes in real-time. The model can be integrated into the development workflow, providing developers with feedback on the bugginess of their changes.\\n\\nIn summary, bug classification is a process that helps developers identify buggy software changes by training a machine learning model on labeled data and using extracted features to differentiate between buggy and clean changes. The model can be deployed to classify new changes in real-time, helping developers prioritize their efforts and focus on fixing bugs in the most critical areas of the codebase.'"
      ]
     },
     "execution_count": 51,
     "metadata": {},
     "output_type": "execute_result"
    }
   ],
   "source": [
    "question = \"bug classification?\"\n",
    "smart_rag(question)"
   ]
  },
  {
   "cell_type": "code",
   "execution_count": 52,
   "metadata": {},
   "outputs": [
    {
     "name": "stdout",
     "output_type": "stream",
     "text": [
      "no\n",
      "Searching in tavily\n"
     ]
    },
    {
     "data": {
      "text/plain": [
       "\"Yi Sun-sin was a renowned Korean admiral who lived during the 16th century. He is considered one of the greatest naval commanders in history and is revered in Korea for his extraordinary leadership and contributions to naval warfare.\\n\\nYi Sun-sin was born in 1545 in a small village in Korea. He began his military career at a young age and quickly rose through the ranks, becoming a respected commander. In 1592, Japan invaded Korea, and Yi Sun-sin was appointed as the commander of the Korean navy.\\n\\nDuring the war, Yi Sun-sin developed innovative tactics and superior ships to counter the Japanese fleet. His most famous invention was the turtle ship, a type of armored warship that was almost impossible to board and had a high degree of maneuverability. The turtle ship was equipped with a dragon head on the bow that could emit smoke and fire cannons, as well as cannons and guns on the stern and sides.\\n\\nYi Sun-sin's tactics and the turtle ship played a crucial role in defeating the Japanese invasion. He won several key battles, including the Battle of Myeongnyang, where he defeated a much larger Japanese fleet with only 13 ships. His victories effectively cut off the Japanese troops in Korea from supplies and reinforcements, preventing them from pressing their initial advantage.\\n\\nYi Sun-sin was a highly respected and admired figure in Korea. His legacy continues to inspire Koreans to this day, and he is remembered as a symbol of courage, innovation, and patriotism.\""
      ]
     },
     "execution_count": 52,
     "metadata": {},
     "output_type": "execute_result"
    }
   ],
   "source": [
    "question = \"Can you tell me about Yi Sun-sin, a Korean admiral?\"\n",
    "smart_rag(question)"
   ]
  },
  {
   "cell_type": "markdown",
   "metadata": {},
   "source": [
    "## Groundedness Check with LangChain and Upstage\n",
    "![Groundedness](./figures/gc.png)\n",
    "### High-Level Overview\n",
    "\n",
    "The provided code demonstrates how to perform a groundedness check using the LangChain library and the Upstage model. The groundedness check is a process of verifying whether the generated response is grounded in the given context. This is an important step in ensuring the quality and relevance of the generated output.\n",
    "\n",
    "The code uses the `UpstageGroundednessCheck` class from the `langchain_upstage` module to perform the groundedness check. It takes the context (a string of unique documents) and the generated response as input, and returns a verdict indicating whether the response is grounded or not.\n",
    "\n",
    "### Detailed Explanation\n",
    "\n",
    "1. The code starts by importing the necessary module:\n",
    "   - `UpstageGroundednessCheck` from `langchain_upstage`: This class is used to perform the groundedness check.\n",
    "\n",
    "2. An instance of the `UpstageGroundednessCheck` class is created and assigned to the variable `groundedness_check`.\n",
    "\n",
    "3. The input for the groundedness check is prepared by creating a dictionary called `request_input`:\n",
    "   - The `\"context\"` key is assigned the value of `str(unique_docs)`, which represents the unique documents as a string.\n",
    "   - The `\"answer\"` key is assigned the value of `response`, which represents the generated response.\n",
    "\n",
    "4. The `invoke` method of the `groundedness_check` instance is called with the `request_input` as an argument. This method performs the groundedness check and returns the verdict.\n",
    "\n",
    "5. The verdict is stored in the `response` variable and printed to the console using `print(response)`.\n",
    "\n",
    "6. The code then checks if the `response` starts with the word \"grounded\" (case-insensitive):\n",
    "   - If the response starts with \"grounded\", it means the groundedness check has passed, and the message \"✅ Groundedness check passed\" is printed.\n",
    "   - If the response does not start with \"grounded\", it means the groundedness check has failed, and the message \"❌ Groundedness check failed\" is printed.\n",
    "\n",
    "\n",
    "The provided code demonstrates a simple yet effective way to perform a groundedness check using LangChain and Upstage. By verifying whether the generated response is grounded in the given context, it helps ensure the quality and relevance of the output.\n",
    "\n",
    "Groundedness checks are an important step in building reliable and trustworthy language models and conversational agents. They help prevent the generation of irrelevant, inconsistent, or factually incorrect responses.\n",
    "\n",
    "By using the `UpstageGroundednessCheck` class from LangChain, developers can easily integrate groundedness checks into their language model pipelines and improve the overall performance of their systems."
   ]
  },
  {
   "cell_type": "code",
   "execution_count": 53,
   "metadata": {},
   "outputs": [
    {
     "name": "stdout",
     "output_type": "stream",
     "text": [
      "grounded\n",
      "✅ Groundedness check passed\n"
     ]
    }
   ],
   "source": [
    "# GC\n",
    "from langchain_upstage import UpstageGroundednessCheck\n",
    "\n",
    "groundedness_check = UpstageGroundednessCheck()\n",
    "\n",
    "context = \"DUS is a new approach developed by Upstage to improve the search quality.\"\n",
    "answer = \"DUS is developed by Upstage.\"\n",
    "\n",
    "request_input = {\n",
    "    \"context\": context,\n",
    "    \"answer\": answer,\n",
    "}\n",
    "gc_result = groundedness_check.invoke(request_input)\n",
    "\n",
    "print(gc_result)\n",
    "if gc_result.lower().startswith(\"grounded\"):\n",
    "    print(\"✅ Groundedness check passed\")\n",
    "else:\n",
    "    print(\"❌ Groundedness check failed\")"
   ]
  },
  {
   "cell_type": "code",
   "execution_count": 54,
   "metadata": {},
   "outputs": [
    {
     "name": "stdout",
     "output_type": "stream",
     "text": [
      "❌ Groundedness check failed\n"
     ]
    }
   ],
   "source": [
    "context = \"DUS is a new approach developed by Upstage to improve the search quality.\"\n",
    "answer = \"DUS is developed by Google.\"\n",
    "\n",
    "request_input = {\n",
    "    \"context\": context,\n",
    "    \"answer\": answer,\n",
    "}\n",
    "gc_result = groundedness_check.invoke(request_input)\n",
    "\n",
    "if gc_result.lower().startswith(\"grounded\"):\n",
    "    print(\"✅ Groundedness check passed\")\n",
    "else:\n",
    "    print(\"❌ Groundedness check failed\")"
   ]
  },
  {
   "cell_type": "markdown",
   "metadata": {},
   "source": [
    "https://docs.ragas.io/en/stable/getstarted/testset_generation.html"
   ]
  },
  {
   "cell_type": "markdown",
   "metadata": {},
   "source": [
    "## Custom Tools in LangChain\n",
    "\n",
    "### High-Level Overview\n",
    "\n",
    "The provided code demonstrates how to create custom tools in LangChain, a framework for developing applications powered by language models. Tools are essential components in LangChain that allow language models to perform specific tasks or access external resources.\n",
    "\n",
    "The code defines three custom tools:\n",
    "\n",
    "1. `add`: A tool that adds two integers.\n",
    "2. `multiply`: A tool that multiplies two integers.\n",
    "3. `get_news`: A tool that retrieves news articles on a given topic using an external API.\n",
    "\n",
    "These tools are then bound to a language model using the `bind_tools` method, enabling the model to utilize these tools when generating responses.\n",
    "\n",
    "### Detailed Explanation\n",
    "\n",
    "Let's break down the code and explain each part in detail:\n",
    "\n",
    "1. Importing necessary modules:\n",
    "   - `tool` from `langchain_core.tools`: This module provides the `@tool` decorator for defining custom tools.\n",
    "   - `requests`: A library for making HTTP requests to external APIs.\n",
    "\n",
    "2. Defining the `add` tool:\n",
    "   - The `@tool` decorator is used to define the `add` function as a custom tool.\n",
    "   - The function takes two integer parameters, `a` and `b`, and returns their sum.\n",
    "   - The docstring provides a brief description of the tool's functionality.\n",
    "\n",
    "3. Defining the `multiply` tool:\n",
    "   - Similar to the `add` tool, the `multiply` function is defined as a custom tool using the `@tool` decorator.\n",
    "   - It takes two integer parameters, `a` and `b`, and returns their product.\n",
    "   - The docstring describes the tool's purpose.\n",
    "\n",
    "4. Defining the `get_news` tool:\n",
    "   - The `get_news` function is defined as a custom tool using the `@tool` decorator.\n",
    "   - It takes a `topic` parameter of type `str` and returns news articles related to that topic.\n",
    "   - The function constructs a URL for the news API using the provided topic and an API key stored in an environment variable.\n",
    "   - It sends a GET request to the API using the `requests` library and returns the JSON response.\n",
    "\n",
    "5. Creating a list of tools:\n",
    "   - The `tools` list is created, containing the `add`, `multiply`, and `get_news` tools.\n",
    "   - This list will be used to bind the tools to the language model.\n",
    "\n",
    "6. Binding the tools to the language model:\n",
    "   - The `bind_tools` method of the `llm` object is called, passing the `tools` list as an argument.\n",
    "   - This step binds the custom tools to the language model, allowing it to utilize these tools when generating responses.\n",
    "   - The resulting object is assigned to the variable `llm_with_tools`.\n",
    "\n",
    "Conclusion\n",
    "\n",
    "The code demonstrates how to create custom tools in LangChain, which can be used to extend the capabilities of language models. By defining tools for specific tasks, such as mathematical operations or retrieving news articles, developers can enhance the functionality of their LangChain applications.\n",
    "\n",
    "The `@tool` decorator simplifies the process of defining custom tools, while the `bind_tools` method allows seamless integration of these tools with the language model.\n",
    "\n",
    "By leveraging custom tools, LangChain enables developers to build powerful and versatile applications that can perform a wide range of tasks beyond simple text generation.\n"
   ]
  },
  {
   "cell_type": "code",
   "execution_count": 55,
   "metadata": {},
   "outputs": [],
   "source": [
    "# Tools\n",
    "from langchain_core.tools import tool\n",
    "import requests\n",
    "\n",
    "\n",
    "@tool\n",
    "def add(a: int, b: int) -> int:\n",
    "    \"\"\"Adds a and b.\"\"\"\n",
    "    return a + b\n",
    "\n",
    "\n",
    "@tool\n",
    "def multiply(a: int, b: int) -> int:\n",
    "    \"\"\"Multiplies a and b.\"\"\"\n",
    "    return a * b\n",
    "\n",
    "\n",
    "@tool\n",
    "def get_news(topic: str) -> str:\n",
    "    \"\"\"Get news on a given topic.\"\"\"\n",
    "    # https://newsapi.org/v2/everything?q=tesla&from=2024-04-01&sortBy=publishedAt&apiKey=API_KEY\n",
    "    # change this to request news from a real API\n",
    "    news_url = f\"https://newsapi.org/v2/everything?q={topic}&apiKey={os.environ['NEWS_API_KEY']}\"\n",
    "    respnse = requests.get(news_url)\n",
    "    return respnse.json()\n",
    "\n",
    "\n",
    "tools = [add, multiply, get_news]\n",
    "\n",
    "llm_with_tools = llm.bind_tools(tools)"
   ]
  },
  {
   "cell_type": "code",
   "execution_count": 56,
   "metadata": {},
   "outputs": [],
   "source": [
    "def call_tool(tool_call):\n",
    "    tool_name = tool_call[\"name\"].lower()\n",
    "    if tool_name not in globals():\n",
    "        print(\"Tool not found\", tool_name)\n",
    "        return None\n",
    "    selected_tool = globals()[tool_name]\n",
    "    return selected_tool.invoke(tool_call[\"args\"])"
   ]
  },
  {
   "cell_type": "code",
   "execution_count": 57,
   "metadata": {},
   "outputs": [
    {
     "name": "stdout",
     "output_type": "stream",
     "text": [
      "[{'name': 'multiply', 'args': {'a': 3, 'b': 12}, 'id': 'efa8b86a-4d33-46eb-8e45-3aa49c10fa04'}, {'name': 'add', 'args': {'a': 11, 'b': 49}, 'id': 'c7cef762-6c94-43d1-a4db-897d5a6ab6e7'}, {'name': 'get_news', 'args': {'topic': 'technology'}, 'id': '7637eb62-140b-4450-b29a-04ee992a562b'}]\n"
     ]
    }
   ],
   "source": [
    "query = \"What is 3 * 12? Also, what is 11 + 49?\"\n",
    "\n",
    "tool_calls = llm_with_tools.invoke(query).tool_calls\n",
    "print(tool_calls)"
   ]
  },
  {
   "cell_type": "code",
   "execution_count": 58,
   "metadata": {},
   "outputs": [
    {
     "name": "stdout",
     "output_type": "stream",
     "text": [
      "36\n",
      "60\n",
      "{'status': 'ok', 'totalResults': 77291, 'articles': [{'source': {'id': 'the-verge', 'name': 'The Verge'}, 'author': 'Elizabeth Lopatto', 'title': 'Apple doesn’t understand why you use technology', 'description': 'Apple’s marketing campaign for its new iPad suggests that the company is confused about what makes technology exciting. That’s new.', 'url': 'https://www.theverge.com/2024/5/9/24152987/apple-crush-ad-piano-ipad', 'urlToImage': 'https://cdn.vox-cdn.com/thumbor/wELW5KNlqEUBz5RbCOSRA3lkm3c=/0x0:3018x1586/1200x628/filters:focal(1509x793:1510x794)/cdn.vox-cdn.com/uploads/chorus_asset/file/25440653/Screenshot_2024_05_09_at_10.59.26_AM.png', 'publishedAt': '2024-05-09T18:22:53Z', 'content': 'Apple doesnt understand why you use technology\\r\\nApple doesnt understand why you use technology\\r\\n / What, exactly, did Apple crush?\\r\\nByElizabeth Lopatto, a reporter who writes about tech, money, and h… [+4139 chars]'}, {'source': {'id': None, 'name': 'Yahoo Entertainment'}, 'author': 'Test Yessis', 'title': 'test-setcion', 'description': 'test-setcionThis article originally appeared on Engadget at https://www.engadget.com/technology/computing/test-setcion-061926526.html?src=rss', 'url': 'https://consent.yahoo.com/v2/collectConsent?sessionId=1_cc-session_b05ec595-0b76-47c5-ace0-4ad77f00e044', 'urlToImage': None, 'publishedAt': '2024-05-14T06:19:29Z', 'content': \"If you click 'Accept all', we and our partners, including 238 who are part of the IAB Transparency &amp; Consent Framework, will also store and/or access information on a device (in other words, use … [+678 chars]\"}, {'source': {'id': 'wired', 'name': 'Wired'}, 'author': 'Matt Simon', 'title': 'The One Thing Holding Back Heat Pumps', 'description': 'It’s not the technology itself. It’s that we don’t yet have enough trained workers to install heat pumps for full-tilt decarbonization.', 'url': 'https://www.wired.com/story/heat-pump-worker-shortage/', 'urlToImage': 'https://media.wired.com/photos/6633d3ad40c3d3a8581d4562/191:100/w_1280,c_limit/Science%20-%20heat%20pump%20engineer%20shortage%20-%20May%206_GettyImages-1252320781.jpg', 'publishedAt': '2024-05-06T11:00:00Z', 'content': 'So the demand is there, as is growing support from the federal and state governments. Whats lagging is the workforceat least temporarily. And the US is nowhere near alone: Wherever heat pump adoption… [+2872 chars]'}, {'source': {'id': 'wired', 'name': 'Wired'}, 'author': 'Kate Knibbs', 'title': 'OpenAI Is ‘Exploring’ How to Responsibly Generate AI Porn', 'description': 'OpenAI released draft guidelines for how  it wants the AI technology inside ChatGPT to behave—and revealed that it’s exploring how to ‘responsibly’ generate explicit content.', 'url': 'https://www.wired.com/story/openai-is-exploring-how-to-responsibly-generate-ai-porn/', 'urlToImage': 'https://media.wired.com/photos/663bc0baa6e8aa6d53b55c2b/191:100/w_1280,c_limit/OpenAI-NSFW-Content-Business-GettyImages-2133941176.jpg', 'publishedAt': '2024-05-08T19:13:20Z', 'content': 'OpenAI released draft documentation Wednesday laying out how it wants ChatGPT and its other AI technology to behave. Part of the lengthy Model Spec document discloses that the company is exploring a … [+3251 chars]'}, {'source': {'id': 'the-verge', 'name': 'The Verge'}, 'author': 'Verge Press Room', 'title': 'Kylie Robison Joins The Verge as Senior AI Reporter', 'description': 'She’ll lead the technology publication’s coverage of artificial intelligence, working closely with The Verge’s policy and tech teams.', 'url': 'https://www.theverge.com/2024/4/30/24145248/kylie-robison-joins-the-verge-as-senior-ai-reporter', 'urlToImage': 'https://cdn.vox-cdn.com/thumbor/DqhqIg7H_V0broyyiRke8zSgwmk=/0x0:2040x1360/1200x628/filters:focal(1020x680:1021x681)/cdn.vox-cdn.com/uploads/chorus_asset/file/25426971/1vpavic_20240417__0002__1_.jpg', 'publishedAt': '2024-04-30T13:54:48Z', 'content': 'Kylie Robison Joins The Verge as Senior AI Reporter\\r\\nKylie Robison Joins The Verge as Senior AI Reporter\\r\\n / Shell lead the technology publications coverage of artificial intelligence, working closel… [+2001 chars]'}, {'source': {'id': None, 'name': 'Gizmodo.com'}, 'author': 'Matt Novak', 'title': 'Senators Want TSA to Pump the Brakes on Facial Recognition at Airports', 'description': 'The Transportation and Security Administration plans to vastly expand its use of facial recognition technology in the U.S., going from 25 airports with the tech to over 430 by this July. And a group of 14 senators from both parties are not happy, arguing in a…', 'url': 'https://gizmodo.com/senators-tsa-pump-brakes-facial-recognition-airports-1851454943', 'urlToImage': 'https://i.kinja-img.com/image/upload/c_fill,h_675,pg_1,q_80,w_1200/007e9a85cf579525389761a02c2f7727.jpg', 'publishedAt': '2024-05-03T18:30:00Z', 'content': 'The Transportation and Security Administration plans to vastly expand its use of facial recognition technology in the U.S., going from 25 airports with the tech to over 430 by this July. And a group … [+3308 chars]'}, {'source': {'id': None, 'name': '[Removed]'}, 'author': None, 'title': '[Removed]', 'description': '[Removed]', 'url': 'https://removed.com', 'urlToImage': None, 'publishedAt': '1970-01-01T00:00:00Z', 'content': '[Removed]'}, {'source': {'id': 'wired', 'name': 'Wired'}, 'author': 'Georgia Gee', 'title': 'Internal Emails Show How a Controversial Gun-Detection System Found Its Way to NYC', 'description': 'NYC mayor Eric Adams wants to test Evolv’s gun-detection tech in subway stations—despite the company saying it’s not designed for that environment. Emails obtained by WIRED show how the company still found an in.', 'url': 'https://www.wired.com/story/evolv-gun-detection-nyc-subways-emails/', 'urlToImage': 'https://media.wired.com/photos/6629392ea620d99a9e8ea90e/191:100/w_1280,c_limit/evolv-ny-subway-eric-adams.jpg', 'publishedAt': '2024-05-13T16:59:51Z', 'content': 'There was a lot of overlap with former members of the NYPD. Adams and Banks came up together as police officersas did a then-account executive of Evolv, also name-dropped by Chitkara in the email to … [+3696 chars]'}, {'source': {'id': None, 'name': 'Gizmodo.com'}, 'author': 'Lucas Ropek', 'title': 'AI Can Tell Your Political Affiliation Just by Looking at Your Face, Researchers Find', 'description': 'A study recently published in the peer-reviewed American Psychologist journal claims that a combination of facial recognition and artificial intelligence technology can accurately assess a person’s political orientation by simply looking at that person’s blan…', 'url': 'https://gizmodo.com/ai-can-tell-your-political-affiliation-just-by-looking-1851430714', 'urlToImage': 'https://i.kinja-img.com/image/upload/c_fill,h_675,pg_1,q_80,w_1200/d9c8cbb8007c47426b58b4e72f686165.jpg', 'publishedAt': '2024-04-24T20:35:00Z', 'content': 'A study recently published in the peer-reviewed American Psychologist journal claims that a combination of facial recognition and artificial intelligence technology can accurately assess a persons po… [+3859 chars]'}, {'source': {'id': 'wired', 'name': 'Wired'}, 'author': 'Steven Levy', 'title': 'Meet the Woman Who Showed President Biden ChatGPT—and Helped Set the Course for AI', 'description': 'Arati Prabhakar has the ear of the US president and a massive mission: help manage AI, revive the semiconductor industry, and pull off a cancer moonshot.', 'url': 'https://www.wired.com/story/arati-prabhakar-ostp-biden-science-tech-adviser/', 'urlToImage': 'https://media.wired.com/photos/662fe814044a3fda321afa06/191:100/w_1280,c_limit/20240202_SR_17-Edit_web.jpg', 'publishedAt': '2024-05-01T10:00:00Z', 'content': 'one day in March 2023, Arati Prabhakar brought a laptop into the Oval Office and showed the future to Joe Biden. Six months later, the president issued a sweeping executive order that set a regulator… [+3502 chars]'}, {'source': {'id': None, 'name': 'Yahoo Entertainment'}, 'author': 'Mariella Moon', 'title': \"Microsoft's AI tool can turn photos into realistic videos of people talking and singing\", 'description': 'Microsoft Research Asia has unveiled a new experimental AI tool called VASA-1 that can take a still image of a person — or the drawing of one — and an existing audio file to create a lifelike talking face out of them in real time. It has the ability to genera…', 'url': 'https://consent.yahoo.com/v2/collectConsent?sessionId=1_cc-session_e55f20eb-d82a-4354-9608-2758c63915de', 'urlToImage': None, 'publishedAt': '2024-04-20T07:00:52Z', 'content': \"If you click 'Accept all', we and our partners, including 238 who are part of the IAB Transparency &amp; Consent Framework, will also store and/or access information on a device (in other words, use … [+678 chars]\"}, {'source': {'id': None, 'name': 'Slashdot.org'}, 'author': 'EditorDavid', 'title': 'Can Technology Help Reduce Drunk-Driving Deaths?', 'description': 'An anonymous reader shared this report from the Wall Street Journal:\\nDrunken-driving deaths in the U.S. have risen to levels not seen in nearly two decades, federal data show, a major setback to long-running road-safety efforts. At the same time, arrests for …', 'url': 'https://yro.slashdot.org/story/24/05/05/2214210/can-technology-help-reduce-drunk-driving-deaths', 'urlToImage': 'https://a.fsdn.com/sd/topics/government_64.png', 'publishedAt': '2024-05-05T22:18:00Z', 'content': 'An anonymous reader shared this report from the Wall Street Journal:\\r\\nDrunken-driving deaths in the U.S. have risen to levels not seen in nearly two decades, federal data show, a major setback to lon… [+1702 chars]'}, {'source': {'id': 'wired', 'name': 'Wired'}, 'author': 'Blake Snow', 'title': 'Translation Tech Is Amazing, Except When It’s Not', 'description': 'We can hold surprisingly deep conversations across languages using simple apps on our phones. But even as these apps get a fresh boost from AI, they can still lead to some awkward moments.', 'url': 'https://www.wired.com/story/translation-tech-is-amazing-except-when-its-not/', 'urlToImage': 'https://media.wired.com/photos/66356649588f131dd8d770a5/191:100/w_1280,c_limit/Translation-Tech-Gear-GettyImages-1417723053.jpg', 'publishedAt': '2024-05-05T12:00:00Z', 'content': \"Todays language translation apps are like self-driving cars: incredibly useful, promising, nearing maturity, and almost entirely powered by machines. It's astonishing that the technology even exists.… [+2941 chars]\"}, {'source': {'id': None, 'name': 'Gizmodo.com'}, 'author': 'Maxwell Zeff', 'title': \"ChatGPT Could Power the iPhone's AI Chatbot: Report\", 'description': 'Apple is reportedly holding discussions with OpenAI about using the startup’s AI technology to power some features coming to the iPhone later this year, Bloomberg reported on Friday. This comes roughly a month after reports surfaced that Apple was holding dis…', 'url': 'https://gizmodo.com/chatgpt-openai-could-power-apple-iphones-ai-chatbot-1851439853', 'urlToImage': 'https://i.kinja-img.com/image/upload/c_fill,h_675,pg_1,q_80,w_1200/a2f3eac7c6a08e2d3d0169f05a4bb371.jpg', 'publishedAt': '2024-04-27T11:00:00Z', 'content': 'Apple is reportedly holding discussions with OpenAI about using the startups AI technology to power some features coming to the iPhone later this year, Bloomberg reported on Friday. This comes roughl… [+1931 chars]'}, {'source': {'id': None, 'name': 'Gizmodo.com'}, 'author': 'Maxwell Zeff', 'title': 'OpenAI Unveils GPT-4 Omni’s Voice Capabilities and They’re Literally Unbelievable', 'description': 'OpenAI unveiled GPT-4 Omni (GPT-4o) during its Spring Update on Monday morning in San Francisco. Chief Technology Officer Mira Murati and OpenAI staff showcased their newest flagship model, capable of real-time verbal conversations with a friendly AI chatbot …', 'url': 'https://gizmodo.com/openai-unveils-gpt-4-omni-s-voice-capabilities-and-they-1851473470', 'urlToImage': 'https://i.kinja-img.com/image/upload/c_fill,h_675,pg_1,q_80,w_1200/70a71beaa319ddc27762cafda40deea6.png', 'publishedAt': '2024-05-13T18:24:00Z', 'content': 'OpenAI unveiled GPT-4 Omni (GPT-4o) during its Spring Update on Monday morning in San Francisco. Chief Technology Officer Mira Murati and OpenAI staff showcased their newest flagship model, capable o… [+3614 chars]'}, {'source': {'id': None, 'name': 'Gizmodo.com'}, 'author': 'Britney Nguyen, Quartz', 'title': \"Biden Administration Asks Companies to Build 'Digital Twins' of AI Chips\", 'description': 'The Biden administration is looking for proposals from companies that can establish and operate an institution that will develop “digital twins” of semiconductors, with the opportunity to receive up to $285 million in funding.Read more...', 'url': 'https://gizmodo.com/us-chips-act-funding-digital-twin-semiconductors-1851458143', 'urlToImage': 'https://i.kinja-img.com/image/upload/c_fill,h_675,pg_1,q_80,w_1200/109a8f447a87ace0df3e6ccea5456a41.jpg', 'publishedAt': '2024-05-06T15:40:30Z', 'content': 'The Biden administration is looking for proposals from companies that can establish and operate an institution that will develop digital twins of semiconductors, with the opportunity to receive up to… [+2664 chars]'}, {'source': {'id': None, 'name': 'Slashdot.org'}, 'author': 'BeauHD', 'title': 'TSMC Unveils 1.6nm Process Technology With Backside Power Delivery', 'description': \"An anonymous reader quotes a report from Tom's Hardware: TSMC announced its leading-edge 1.6nm-class process technology today, a new A16 manufacturing process that will be the company's first Angstrom-class production node and promises to outperform its prede…\", 'url': 'https://hardware.slashdot.org/story/24/04/25/2231235/tsmc-unveils-16nm-process-technology-with-backside-power-delivery', 'urlToImage': 'https://a.fsdn.com/sd/topics/intel_64.png', 'publishedAt': '2024-04-26T03:30:00Z', 'content': \"TSMC announced its leading-edge 1.6nm-class process technology today, a new A16 manufacturing process that will be the company's first Angstrom-class production node and promises to outperform its pr… [+1760 chars]\"}, {'source': {'id': None, 'name': 'InsideClimate News'}, 'author': 'Inside Climate News', 'title': 'Storing energy with compressed air is about to have its moment of truth', 'description': 'Technology will be used to store wind and solar energy for use later.', 'url': 'https://insideclimatenews.org/news/02052024/inside-clean-energy-long-duration-energy-storage-technology/', 'urlToImage': 'https://cdn.arstechnica.net/wp-content/uploads/2024/05/silver-city-energy-760x380.jpg', 'publishedAt': '2024-05-02T13:57:17Z', 'content': 'Enlarge/ A rendering of Silver City Energy Centre, a compressed air energy storage plant to be built by Hydrostor in Broken Hill, New South Wales, Australia.\\r\\n37\\r\\nThe need for long-duration energy st… [+2318 chars]'}, {'source': {'id': None, 'name': 'MacRumors'}, 'author': 'Juli Clover', 'title': 'Apple Releases Safari Technology Preview 193 With Bug Fixes and Performance Improvements', 'description': 'Apple today released a new update for Safari Technology Preview, the experimental browser Apple first introduced in March 2016. Apple designed the \\u200cSafari Technology Preview\\u200c to test features that may be introduced into future release versions of Safari.\\n\\n\\n\\n\\n…', 'url': 'https://www.macrumors.com/2024/04/24/apple-releases-safari-technology-preview-193/', 'urlToImage': 'https://images.macrumors.com/t/jHD1aGfXq86Ln_kfzTyWIF68vOo=/2368x/article-new/2021/02/Safari-Technology-Preview-Feature.jpg', 'publishedAt': '2024-04-25T00:03:46Z', 'content': 'Apple today released a new update for Safari Technology Preview, the experimental browser Apple first introduced in March 2016. Apple designed the \\u200cSafari Technology Preview\\u200c to test features that ma… [+944 chars]'}, {'source': {'id': 'wired', 'name': 'Wired'}, 'author': 'Dell Cameron', 'title': 'Big Tech Squares Off Against US Spies', 'description': \"One of Silicon Valley's most influential lobbying arms joins privacy reformers in a fight against the Biden administration-backed expansion of a major US surveillance program.\", 'url': 'https://www.wired.com/story/iti-section-702-expansion-opposition/', 'urlToImage': 'https://media.wired.com/photos/661fef9345f4d7f05434b8df/191:100/w_1280,c_limit/GettyImages-2147862639%20(1).jpg', 'publishedAt': '2024-04-17T18:11:29Z', 'content': 'A trade organization representing some of the worlds largest information technology companiesGoogle, Amazon, IBM, and Microsoft among themsay its members are voicing strong opposition to ongoing effo… [+3166 chars]'}, {'source': {'id': 'the-verge', 'name': 'The Verge'}, 'author': 'Emilia David', 'title': 'Apple plans to use M2 Ultra chips in the cloud for AI', 'description': 'Apple reportedly wants to offload complex AI queries to high-powered M2 chips in data centers as the company looks to expand its AI plans.', 'url': 'https://www.theverge.com/2024/5/9/24153111/apple-m2-ultra-chips-cloud-data-centers-ai', 'urlToImage': 'https://cdn.vox-cdn.com/thumbor/x2E5qk82ChtE9vZvW1p2duIOnxA=/0x0:2040x1360/1200x628/filters:focal(1020x680:1021x681)/cdn.vox-cdn.com/uploads/chorus_asset/file/24401980/STK071_ACastro_apple_0003.jpg', 'publishedAt': '2024-05-09T22:13:16Z', 'content': 'Apple plans to use M2 Ultra chips in the cloud for AI\\r\\nApple plans to use M2 Ultra chips in the cloud for AI\\r\\n / The company reportedly plans to divert complex AI queries to servers and keep simple t… [+1731 chars]'}, {'source': {'id': 'wired', 'name': 'Wired'}, 'author': 'Lauren Goode', 'title': 'The Unsexy Future of Generative AI Is Enterprise Apps', 'description': 'Some startups that launched buzzy generative AI products are now narrowing their offerings to try to make them more useful to business clients.', 'url': 'https://www.wired.com/story/unsexy-future-generative-ai-enterprise-apps/', 'urlToImage': 'https://media.wired.com/photos/6632b8da9ddd878f29f04941/191:100/w_1280,c_limit/AI-Pivot-to-Boring-Business-GettyImages-1289189102.jpg', 'publishedAt': '2024-05-02T10:00:00Z', 'content': 'However, that amount includes massive funding from corporate backers, like Microsofts infusion of capital into OpenAI and Amazons funding of Anthropic. Stripped down to conventional VC investments, f… [+4190 chars]'}, {'source': {'id': None, 'name': 'MacRumors'}, 'author': 'Juli Clover', 'title': 'Apple Tweaks EU Core Technology Fee to Avoid Bankrupting Unexpectedly Viral Apps', 'description': 'Apple today announced that it is tweaking the terms of the 0.50 euro Core Technology Fee (CTF) that apps distributed using the new EU business terms must pay, introducing a solution that would keep small apps that go viral from being bankrupt.\\n\\n\\n\\n\\n\\nFirst, ind…', 'url': 'https://www.macrumors.com/2024/05/02/apple-updates-core-technology-fee-eu/', 'urlToImage': 'https://images.macrumors.com/t/WWB3cN-4gbZyF0bdFfAhhqJsjrw=/2500x/article-new/2024/01/App-Store-vs-EU-Feature-2.jpg', 'publishedAt': '2024-05-02T15:00:00Z', 'content': 'Apple today announced that it is tweaking the terms of the 0.50 euro Core Technology Fee (CTF) that apps distributed using the new EU business terms must pay, introducing a solution that would keep s… [+3183 chars]'}, {'source': {'id': 'the-verge', 'name': 'The Verge'}, 'author': 'Emilia David', 'title': 'AI security bill aims to prevent safety breaches of AI models', 'description': 'The Secure Artificial Intelligence Act, filed in the Senate, requires NIST to create a database of AI security breaches and track safety issues.', 'url': 'https://www.theverge.com/2024/5/1/24146566/ai-security-bill-warner-tillis-senate-redteam-safety', 'urlToImage': 'https://cdn.vox-cdn.com/thumbor/JfhJG0V1BLHk7fAjGICz3nXtX80=/0x0:2040x1360/1200x628/filters:focal(1020x680:1021x681)/cdn.vox-cdn.com/uploads/chorus_asset/file/25362056/STK_414_AI_CHATBOT_R2_CVirginia_A.jpg', 'publishedAt': '2024-05-01T19:30:40Z', 'content': 'AI security bill aims to prevent safety breaches of AI models\\r\\nAI security bill aims to prevent safety breaches of AI models\\r\\n / The Secure Artificial Intelligence Act would create a database trackin… [+2095 chars]'}, {'source': {'id': 'the-verge', 'name': 'The Verge'}, 'author': 'Umar Shakir', 'title': 'Did Stanford just prototype the future of AR glasses?', 'description': 'A Stanford research team developed full-color 3D augmented reality tech. The AR prototype can project content at different depths using a special waveguide.', 'url': 'https://www.theverge.com/2024/5/9/24153092/stanford-ai-holographic-ar-glasses-3d-imaging-research', 'urlToImage': 'https://cdn.vox-cdn.com/thumbor/I93ED9Ds-z05RSTLlyuSCMPYTXw=/0x0:1500x981/1200x628/filters:focal(750x491:751x492)/cdn.vox-cdn.com/uploads/chorus_asset/file/25441105/20240430_Holographic_AR_Displays_N6A1077.jpg', 'publishedAt': '2024-05-10T00:12:28Z', 'content': 'Did Stanford just prototype the future of AR glasses?\\r\\nDid Stanford just prototype the future of AR glasses?\\r\\n / Stanfords Computational Imaging Lab has an advanced holographic imaging tech that coul… [+2255 chars]'}, {'source': {'id': 'business-insider', 'name': 'Business Insider'}, 'author': 'Polly Thompson', 'title': \"Chinese scientists want to use lasers to power ultrafast, stealthy submarines. A laser expert says there's a major flaw in their plan.\", 'description': \"Chinese scientists from Harbin University say they've made a breakthrough in underwater laser propulsion technology.\", 'url': 'https://www.businessinsider.com/china-scientists-laser-propulsion-silent-superfast-submarines-flawed-laser-expert-2024-4', 'urlToImage': 'https://i.insider.com/6628b7b423b29110d3023267?width=1200&format=jpeg', 'publishedAt': '2024-04-28T10:28:01Z', 'content': \"A nuclear-powered Type 094A Jin-class ballistic missile submarine of the Chinese People's Liberation Army (PLA) Navy in 2018.Reuters\\r\\n<ul><li>The US and China are in a race to develop the most advanc… [+5252 chars]\"}, {'source': {'id': 'business-insider', 'name': 'Business Insider'}, 'author': 'Cameron Manley', 'title': \"iPads are helping Ukraine's pilots flying Soviet-era planes in combat missions against Russian forces, said a US defense official\", 'description': \"The US and Ukraine are collaborating to integrate Western technology with Ukraine's dated Soviet weapons.\", 'url': 'https://www.businessinsider.com/ukraines-pilots-ipads-to-fly-combat-missions-against-russia-us-2024-4', 'urlToImage': 'https://i.insider.com/662e649410dfcda409643bd7?width=1200&format=jpeg', 'publishedAt': '2024-04-28T18:24:55Z', 'content': \"Ukrainian pilots using an iPad for Wild Weasel missionsUkrainian Air Force\\r\\n<ul><li>Ukraine's pilots are using iPads for combat missions, said a\\xa0US undersecretary.</li><li>The iPads or similar tablet… [+3269 chars]\"}, {'source': {'id': 'business-insider', 'name': 'Business Insider'}, 'author': 'Mikhaila Friel', 'title': 'Peter Thiel was trapped inside a student debating hall by pro-Palestine protesters accusing him of genocide', 'description': \"Palantir cofounder Peter Thiel faced backlash from protestors over his company's war technology deal with Israel.\", 'url': 'https://www.businessinsider.com/peter-thiel-cambridge-union-society-palestine-protests-palantir-israel-gaza-2024-5', 'urlToImage': 'https://i.insider.com/663ca6639686a6f37bfd83cc?width=1200&format=jpeg', 'publishedAt': '2024-05-09T12:10:12Z', 'content': 'Peter Thiel speaks at the Cambridge Union Society.Nordin Catic/Getty Images\\r\\n<ul><li>Peter Thiel faced backlash from pro-Palestine protesters during an event in Cambridge, UK.\\xa0 </li><li>Thiel is the … [+3721 chars]'}, {'source': {'id': 'bbc-news', 'name': 'BBC News'}, 'author': 'https://www.facebook.com/bbcnews', 'title': 'Smart motorway tech failing on a regular basis', 'description': 'Figures obtained by the BBC reveal worries about the reliability of the tech behind smart motorways.', 'url': 'https://www.bbc.co.uk/news/uk-68848418', 'urlToImage': 'https://ichef.bbci.co.uk/news/1024/branded_news/6E30/production/_133180282_514dd48c-1b76-4f83-b2ed-d0fc112532ed.jpg', 'publishedAt': '2024-04-22T04:45:04Z', 'content': \"Media caption, Footage from smart motorway accidents\\r\\nThe technology behind England's smart motorway network stops working on a regular basis, the BBC has discovered. \\r\\nFigures obtained by Panorama h… [+5374 chars]\"}, {'source': {'id': None, 'name': 'NPR'}, 'author': None, 'title': 'Voting technology company settles lawsuit against OAN over 2020 election claims', 'description': 'The settlement between Smartmatic and One America News Network is the latest development in a larger legal pushback by voting equipment companies targeted by fraud claims related to the 2020 election.', 'url': 'https://www.npr.org/2024/04/16/1245216824/oan-smartmatic-settlement-defamation-lawsuit-2020-election', 'urlToImage': 'https://media.npr.org/include/images/facebook-default-wide-s1400-c100.jpg', 'publishedAt': '2024-04-17T01:34:08Z', 'content': 'WASHINGTON A voting technology company targeted by bogus fraud claims related to the 2020 presidential election settled a defamation lawsuit Tuesday against a conservative news outlet.\\r\\nThe settlemen… [+2111 chars]'}, {'source': {'id': None, 'name': '[Removed]'}, 'author': None, 'title': '[Removed]', 'description': '[Removed]', 'url': 'https://removed.com', 'urlToImage': None, 'publishedAt': '1970-01-01T00:00:00Z', 'content': '[Removed]'}, {'source': {'id': None, 'name': '[Removed]'}, 'author': None, 'title': '[Removed]', 'description': '[Removed]', 'url': 'https://removed.com', 'urlToImage': None, 'publishedAt': '1970-01-01T00:00:00Z', 'content': '[Removed]'}, {'source': {'id': None, 'name': 'Slashdot.org'}, 'author': 'BeauHD', 'title': 'Senators Want Limits On TSA Use of Facial Recognition Technology For Airport Screening', 'description': \"A bipartisan group of senators, led by Jeff Merkley, John Kennedy, and Roger Marshall, is advocating for limitations on the Transportation Security Administration's use of facial recognition technology due to concerns about privacy and civil liberties. PBS re…\", 'url': 'https://yro.slashdot.org/story/24/05/03/2138236/senators-want-limits-on-tsa-use-of-facial-recognition-technology-for-airport-screening', 'urlToImage': 'https://a.fsdn.com/sd/topics/government_64.png', 'publishedAt': '2024-05-03T22:10:00Z', 'content': \"In a letter on Thursday, the group of 14 lawmakers called on Senate leaders to use the upcoming reauthorization of the Federal Aviation Administration as a vehicle to limit TSA's use of the technolog… [+715 chars]\"}, {'source': {'id': 'business-insider', 'name': 'Business Insider'}, 'author': 'Alexandra Bacon', 'title': \"A high school employee was arrested after a deepfake AI recording imitating the school's principal making racist and antisemitic comments circulated online\", 'description': 'Local authorities in Baltimore have called for changes to the law to protect against the misuse of AI technology.', 'url': 'https://www.businessinsider.com/high-school-employee-arrested-ai-deepfake-racist-audio-principal-police-2024-4', 'urlToImage': 'https://i.insider.com/662b83bc10dfcda40963ae54?width=1200&format=jpeg', 'publishedAt': '2024-04-26T11:47:39Z', 'content': 'Authorities said that this case is believed to be among the first of its kind in the country.Tribune News Service/Getty Images\\r\\n<ul><li>A high school athletics director was arrested after a deepfake … [+3090 chars]'}, {'source': {'id': 'business-insider', 'name': 'Business Insider'}, 'author': 'Katherine Tangalakis-Lippert', 'title': \"Apple is weighing a big decision impacting the next iPhone release: OpenAI or Google's Gemini\", 'description': 'Apple is negotiating with both OpenAI and Google to implement AI technology in its next generation of iPhone, Bloomberg reported.', 'url': 'https://www.businessinsider.com/apple-negotiating-openai-google-gemini-ai-to-next-iphone-2024-4', 'urlToImage': 'https://i.insider.com/662c697310dfcda409642b6d?width=1200&format=jpeg', 'publishedAt': '2024-04-27T04:33:33Z', 'content': 'Apple is negotiating with both OpenAI and Google to implement AI technology in its next generation of iPhone, Bloomberg reported.Budrul Chukrut/SOPA Images/LightRocket via Getty Images\\r\\n<ul><li>Apple… [+2744 chars]'}, {'source': {'id': 'business-insider', 'name': 'Business Insider'}, 'author': 'Kwan Wei Kevin Tan', 'title': \"'Shark Tank's' Kevin O'Leary says pro-Palestinian student protesters are 'screwed' when they apply for jobs because employers will use AI to identify them and filter them out\", 'description': \"O'Leary said the protesters could be filtered out by employers using AI technology to conduct background checks on job applicants.\", 'url': 'https://www.businessinsider.com/kevin-oleary-pro-palestinian-student-protesters-screwed-job-hunt-2024-5', 'urlToImage': 'https://i.insider.com/663448940dfb1341e9022702?width=1200&format=jpeg', 'publishedAt': '2024-05-03T04:37:34Z', 'content': '\"Shark Tank\" host and investor Kevin O\\'Leary.Roy Rochlin via Getty Images\\r\\n<ul><li>Students\\xa0protesting Israel\\'s war on Gaza may be ruining their career prospects, says Kevin O\\'Leary.</li><li>The\\xa0\"Sha… [+3307 chars]'}, {'source': {'id': 'business-insider', 'name': 'Business Insider'}, 'author': 'Lakshmi Varanasi', 'title': 'In the rush to adopt AI, ethics and responsibility are taking a backseat at many companies', 'description': \"ChatGPT sparked a generative AI frenzy in the corporate workplace. Efforts to implement that technology responsibly, however, haven't kept up.\", 'url': 'https://www.businessinsider.com/ai-ethics-risks-responsibility-business-bcg-2024-5', 'urlToImage': 'https://i.insider.com/6640f8b6f27898f532d6ce34?width=1200&format=jpeg', 'publishedAt': '2024-05-12T17:26:45Z', 'content': 'AI can get pretty scary if its not regulated.South_agency/Getty Images\\r\\n<ul><li>Companies are rapidly integrating generative AI technology to boost productivity.</li><li>Experts, however, are concern… [+3556 chars]'}, {'source': {'id': 'business-insider', 'name': 'Business Insider'}, 'author': 'Lakshmi Varanasi', 'title': \"Sam Altman wants to make AI like a 'super-competent colleague that knows absolutely everything' about your life\", 'description': 'It should know absolutely everything about you — every email, every conversation — Altman told the MIT Technology Review.', 'url': 'https://www.businessinsider.com/sam-altman-openai-chatgpt-super-competent-colleague-2024-5', 'urlToImage': 'https://i.insider.com/663677fdec0c696569011b35?width=1200&format=jpeg', 'publishedAt': '2024-05-04T18:22:11Z', 'content': 'OpenAI CEO Sam Altman wants AI to serve as a \"super-competent colleague\" for everyone.Markus Schreiber/AP\\r\\n<ul><li>OpenAI CEO Sam Altman described the ultimate AI app to the MIT Technology Review.</l… [+2158 chars]'}, {'source': {'id': 'business-insider', 'name': 'Business Insider'}, 'author': 'Cameron Manley', 'title': 'Musk makes his second trip to China in less than a year to hurry along self-driving tech rollout, reports say', 'description': \"Musk plans to fast-track Tesla's autonomous driving technology in China amid declining shares and rising competition, reports say.\", 'url': 'https://www.businessinsider.com/musk-in-china-boost-teslas-full-self-driving-technology-reports-2024-4', 'urlToImage': 'https://i.insider.com/662e3401ec0c696569fe7ebc?width=1200&format=jpeg', 'publishedAt': '2024-04-28T12:46:51Z', 'content': 'Tesla boss Elon Musk (L) walks with Shanghai Mayor Ying Yong during the ground-breaking ceremony for a Tesla factory in Shanghai on January 7, 2019.STR via Getty Images\\r\\n<ul><li>Elon Musk visits Chin… [+2572 chars]'}, {'source': {'id': None, 'name': 'Gizmodo.com'}, 'author': 'Maxwell Zeff', 'title': \"Sam Altman Says 'Voice Is a Hint' at the Next Big Thing in AI\", 'description': 'OpenAI is gearing up for a much-anticipated spring update to GPT-4 and ChatGPT on Monday, and multiple reports are pointing to voice as the next frontier for Sam Altman’s AI company. On Friday’s episode of the All-In podcast, Altman indicated that voice-based…', 'url': 'https://gizmodo.com/sam-altman-says-voice-is-a-hint-at-the-next-big-thing-i-1851472463', 'urlToImage': 'https://i.kinja-img.com/image/upload/c_fill,h_675,pg_1,q_80,w_1200/c22ad5e16fe102d211acad4b68f05d53.jpg', 'publishedAt': '2024-05-13T13:25:00Z', 'content': 'OpenAI is gearing up for a much-anticipated spring update to GPT-4 and ChatGPT on Monday, and multiple reports are pointing to voice as the next frontier for Sam Altmans AI company. On Fridays episod… [+2701 chars]'}, {'source': {'id': 'business-insider', 'name': 'Business Insider'}, 'author': 'Ellyn Lapointe', 'title': \"Scientists solved the 70-year-old mystery of an insect's invisibility coat that can manipulate light\", 'description': \"A team of researchers created the world's first synthetic brochosomes in a huge step towards invisibility cloaking technology.\", 'url': 'https://www.businessinsider.com/backyard-insect-may-hold-secret-invisibility-cloak-technology-2024-4', 'urlToImage': 'https://i.insider.com/661d603416bde8d4ead90e69?width=1200&format=jpeg', 'publishedAt': '2024-04-15T17:13:58Z', 'content': 'Leafhoppers (left) are a common backyard insect that secrete amazingly complex nanoparticles called brochosomes (right).Lin Wang and Tak-Sing Wong\\r\\n<ul><li>Leafhoppers are the only species that secre… [+4994 chars]'}, {'source': {'id': 'business-insider', 'name': 'Business Insider'}, 'author': 'Catherine Boudreau', 'title': \"China's top climate envoy is coming to the US this month as tensions over green tech run high\", 'description': 'The meeting comes as the US and China jockey for power over renewable technology like solar, EVs, and batteries.', 'url': 'https://www.businessinsider.com/china-meeting-us-climate-solar-panels-coal-power-energy-security-2024-5', 'urlToImage': 'https://i.insider.com/663398040dfb1341e901a373?width=1200&format=jpeg', 'publishedAt': '2024-05-02T13:50:24Z', 'content': \"A coal-fired power plant in China's Zhejiang province.Getty Images\\r\\n<ul><li>The US is trying to cut itself off from China's green tech like solar, EVs, and batteries.</li><li>The moves could hit Chin… [+3825 chars]\"}, {'source': {'id': 'wired', 'name': 'Wired'}, 'author': 'Steven Levy', 'title': 'A Wave of AI Tools Is Set to Transform Work Meetings', 'description': 'An AI-powered wearable from startup Limitless promises to make meetings more productive. It’s the beginning of a wider transformation of human interactions.', 'url': 'https://www.wired.com/story/taking-baby-steps-toward-the-ai-meeting-singularity/', 'urlToImage': 'https://media.wired.com/photos/66218c3dca4df31d889f92c4/191:100/w_1280,c_limit/All-Colors-Back.jpg', 'publishedAt': '2024-04-19T13:00:00Z', 'content': 'I ask Liang whether the prominence of AI in meetings might make humans less likely to attend. Knowing that there will be a summary available seems a disincentive to actually showing up. Liang himself… [+2856 chars]'}, {'source': {'id': 'wired', 'name': 'Wired'}, 'author': 'Jonathan M. Gitlin, Ars Technica', 'title': 'Automakers Want AM Radios Out of Cars. Congress Is About to Require Them', 'description': 'A popular bill will force car companies to put AM radios in vehicles at no extra charge, despite decreasing interest from drivers and potential electromagnetic interference.', 'url': 'https://www.wired.com/story/am-radio-cars-law-requires/', 'urlToImage': 'https://media.wired.com/photos/6635034749cf07db4d8588a1/191:100/w_1280,c_limit/Automakers-Want-AM-Radios-Out-of-Cars.-Congress-Is-About-to-Require-Them-Gear-EJ69W0.jpg', 'publishedAt': '2024-05-03T17:35:02Z', 'content': 'A controversial bill that would require all new cars to be fitted with AM radios looks set to become a law in the near future. Yesterday, Senator Edward Markey revealed that the AM Radio for Every Ve… [+4200 chars]'}, {'source': {'id': None, 'name': 'NPR'}, 'author': 'Jane Arraf', 'title': \"Israel 'spoofs' GPS to deter attacks, but it also throws off planes, ships and apps\", 'description': 'GPS \"spoofing\" sends false location signals to satellites to deter rockets and missiles. It also increases risks for planes, ships and technology that rely on the system.', 'url': 'https://www.npr.org/2024/04/22/1245847903/israel-gps-spoofing', 'urlToImage': 'https://media.npr.org/assets/img/2024/04/19/lebanon_airport_screens_hack_24007650637932_wide-366f9729176effc34f888cf364ffcaf142457aa7-s1400-c100.jpg', 'publishedAt': '2024-04-22T14:02:47Z', 'content': \"The U.S.-operated GPS has falsely located planes, people and ships, sometimes placing them at the Beirut's international airport.\\r\\nHassan Ammar/AP\\r\\nBEIRUT For the past few months, the U.S.-operated G… [+6366 chars]\"}, {'source': {'id': 'wired', 'name': 'Wired'}, 'author': 'Brenda Stolyar', 'title': 'Apple iPad Pro (M4, 2024) Review: Powerful Yet Premature', 'description': 'Beautifully designed and endowed with abundant horsepower, the iPad Pro may not be fully realized until the software catches up.', 'url': 'https://www.wired.com/review/apple-ipad-pro-m4-2024/', 'urlToImage': 'https://media.wired.com/photos/6640ed323ad06edebc6aa434/191:100/w_1280,c_limit/Apple-iPad-Pro-M4-2024-collage-052024-SOURCE-Brenda-Stolyar.png', 'publishedAt': '2024-05-13T21:00:08Z', 'content': 'its no secret that Apple has mastered the art of smoke and mirrors. When the company debuted the new iPad Pro, the flashy livestreamed keynoteand the hands-on event for media afterwardmade it seem as… [+2831 chars]'}, {'source': {'id': 'time', 'name': 'Time'}, 'author': 'Vlad Savov / Bloomberg', 'title': 'Jack Dorsey Leaves BlueSky Board and Calls X ‘Freedom Technology’', 'description': 'The Twitter founder’s moves suggest an apparent warming of relations between him and Elon Musk.', 'url': 'https://time.com/6974971/jack-dorsey-leaves-bluesky-board/', 'urlToImage': 'https://api.time.com/wp-content/uploads/2024/05/jack-dorsey.jpg?quality=85&w=1024&h=628&crop=1', 'publishedAt': '2024-05-06T07:00:00Z', 'content': 'Jack Dorsey has left the board of social networking service Bluesky, which he helped fund and popularize a year ago in the wake of regret over the sale of Twitter to Elon Musk.\\r\\nThe Twitter co-founde… [+1273 chars]'}, {'source': {'id': None, 'name': '[Removed]'}, 'author': None, 'title': '[Removed]', 'description': '[Removed]', 'url': 'https://removed.com', 'urlToImage': None, 'publishedAt': '1970-01-01T00:00:00Z', 'content': '[Removed]'}, {'source': {'id': 'business-insider', 'name': 'Business Insider'}, 'author': 'insider@insider.com (Sheryl Stillman)', 'title': \"I've traveled over 10,000 miles on the open road — after technology failed me, I'll never make these 3 mistakes again\", 'description': \"After driving 10,000 miles around the US over the past few years, I've made travel mistakes and learned critical tech lessons the hard way.\", 'url': 'https://www.businessinsider.com/mistakes-to-avoid-road-trips-from-someone-drove-far-2024-4', 'urlToImage': 'https://i.insider.com/661eba4b20b15f0ff4286d21?width=1200&format=jpeg', 'publishedAt': '2024-04-20T10:18:02Z', 'content': \"AI can plan travel itineraries and Apple AirTags can track luggage but tech and travel aren't always a foolproof combination when it comes to road trips.\\r\\nAfter driving 10,000 miles around the US ove… [+2520 chars]\"}, {'source': {'id': 'business-insider', 'name': 'Business Insider'}, 'author': 'Beatrice Nolan', 'title': \"Sam Altman says we probably won't need a new device for the AI future\", 'description': 'Despite a flurry of new AI devices hitting the market, the OpenAI CEO told MIT Technology Review we may not need a separate device to engage with AI.', 'url': 'https://www.businessinsider.com/sam-altman-ai-device-hardware-agents-openai-future-2024-5', 'urlToImage': 'https://i.insider.com/66337dfa10dfcda40965bf45?width=1200&format=jpeg', 'publishedAt': '2024-05-02T12:50:17Z', 'content': \"Sam Altman isn't sure our AI future requires new hardware.Andrew Caballero-Reynolds/Getty Images\\r\\n<ul><li>Sam Altman told MIT Technology Review we may not need hardware to engage with AI in the futur… [+1983 chars]\"}, {'source': {'id': 'business-insider', 'name': 'Business Insider'}, 'author': 'Tim Paradis', 'title': 'The likely reason your résumé got rejected', 'description': 'Job seekers often fear applicant-tracking systems, but a big reason why your résumé gets rejected might not be technology, but people.', 'url': 'https://www.businessinsider.com/why-your-resume-gets-rejected-job-search-bots-people-ats-2024-5', 'urlToImage': 'https://i.insider.com/6635359aec0c69656900fbea?width=1200&format=jpeg', 'publishedAt': '2024-05-04T09:52:01Z', 'content': \"Software isn't necessarily the reason your résumé got rejected. Joe Raedle/Getty Images\\r\\n<ul><li>Job seekers often look for ways to slip past the software many companies use to collect résumés.</li><… [+4786 chars]\"}, {'source': {'id': 'business-insider', 'name': 'Business Insider'}, 'author': 'Madison Hall', 'title': \"There's a messy battle over AI going on in DC — and there's no end in sight\", 'description': \"Lawmakers are struggling to regulate AI because the technology is developing at a rapid speed and they don't have the expertise to keep up.\", 'url': 'https://www.businessinsider.com/ai-regulations-what-lawmakers-president-are-doing-2024-4', 'urlToImage': 'https://i.insider.com/6627c4d023b29110d301bf41?width=1200&format=jpeg', 'publishedAt': '2024-05-05T11:29:01Z', 'content': 'President Joe Biden\\'s 2023 executive order on \"Safe, Secure, and Trustworthy Development and Use of Artificial Intelligence\" has been his biggest contribution to regulating AI so far while in office.… [+9257 chars]'}, {'source': {'id': 'business-insider', 'name': 'Business Insider'}, 'author': 'Tom Carter', 'title': \"Elon Musk will face intense competition if he tries to bring Tesla's full self-driving technology to China\", 'description': 'Tesla has moved a step closer to securing approval to operate its full self-driving technology in China, according to multiple reports.', 'url': 'https://www.businessinsider.com/elon-musk-tesla-full-self-driving-technology-china-local-competition-2024-4', 'urlToImage': 'https://i.insider.com/662f73310dfb1341e9001d25?width=1200&format=jpeg', 'publishedAt': '2024-04-29T12:07:09Z', 'content': 'Elon Musk took a surprise trip to China over the weekend.Kevin Winter/Getty Images\\r\\n<ul><li>Elon Musk has moved closer to getting full self-driving technology approved in China, reports suggest.</li>… [+3582 chars]'}, {'source': {'id': None, 'name': 'Yahoo Entertainment'}, 'author': 'Will Shanklin', 'title': 'Amazon says a whopping 140 third-party stores in four countries use its Just Walk Out tech', 'description': 'Amazon published a blog post on Wednesday providing an update about its Just Walk Out technology, which it reportedly pulled from its Fresh grocery stores earlier this month. While extolling Just Walk Out’s virtues as a sales pitch to potential retail partner…', 'url': 'https://consent.yahoo.com/v2/collectConsent?sessionId=1_cc-session_12c11d09-77dc-41d7-a0ce-dfe499e21829', 'urlToImage': None, 'publishedAt': '2024-04-17T19:16:50Z', 'content': \"If you click 'Accept all', we and our partners, including 238 who are part of the IAB Transparency &amp; Consent Framework, will also store and/or access information on a device (in other words, use … [+678 chars]\"}, {'source': {'id': None, 'name': 'Yahoo Entertainment'}, 'author': 'Lawrence Bonk', 'title': 'The world’s largest direct carbon capture plant just went online', 'description': 'Swiss start-up Climeworks has done it again. The company just opened the world’s largest carbon capture plant in Iceland, dwarfing its own record of how much CO2 it can pull from the air. The company’s previous record-holding carbon capture plant, Orca, sucks…', 'url': 'https://consent.yahoo.com/v2/collectConsent?sessionId=1_cc-session_3d2a45c2-3375-4d1f-a9ba-ebc4d9891672', 'urlToImage': None, 'publishedAt': '2024-05-10T17:24:47Z', 'content': \"If you click 'Accept all', we and our partners, including 238 who are part of the IAB Transparency &amp; Consent Framework, will also store and/or access information on a device (in other words, use … [+678 chars]\"}, {'source': {'id': 'business-insider', 'name': 'Business Insider'}, 'author': 'Kwan Wei Kevin Tan', 'title': \"An accounting firm hired to vet Truth Social's financials quit after less than a year because they no longer wanted to be linked to Trump: FT\", 'description': \"WithumSmith+Brown resigned as Trump Media & Technology Group's auditor, just a few months after they were appointed in 2021, per the Financial Times.\", 'url': 'https://www.businessinsider.com/accounting-firm-ditched-truth-social-after-less-than-a-year-2024-4', 'urlToImage': 'https://i.insider.com/661dd6cd1caec1275a70804d?width=1200&format=jpeg', 'publishedAt': '2024-04-16T02:59:07Z', 'content': \"WithumSmith+Brown resigned as Trump Media & Technology Group's auditor, just a few months after they were appointed in 2021, per the Financial Times.Adam Gray/AFP via Getty Images; Scott Olson via Ge… [+3294 chars]\"}, {'source': {'id': 'business-insider', 'name': 'Business Insider'}, 'author': 'Alex Bitter', 'title': \"Uber's CEO: Tesla will need us for robotaxis\", 'description': \"Uber's CEO said that Elon Musk and Tesla will need tools such as pricing and scheduling technology to make full self-driving taxis reality.\", 'url': 'https://www.businessinsider.com/ubers-khosrowshahi-tesla-needs-us-for-robotaxis-2024-5', 'urlToImage': 'https://i.insider.com/663b846fb4abc992e8c6d568?width=1200&format=jpeg', 'publishedAt': '2024-05-08T15:06:26Z', 'content': 'Uber CEO Dara Khosrowshahi said that his company could play a key role in making self-driving taxis reality.Anushree Fadnavis/Reuters\\r\\n<ul><li>Tesla is trying to use its full self-driving technology … [+1740 chars]'}, {'source': {'id': 'business-insider', 'name': 'Business Insider'}, 'author': 'George Glover', 'title': \"Tesla stock set to surge 10% on Elon Musk's China full self-driving 'home run'\", 'description': 'Elon Musk seems to have won Beijing\\'s backing for Tesla\\'s autonomous driving technology in China in a move one analyst called a \"watershed moment.\"', 'url': 'https://markets.businessinsider.com/news/stocks/tesla-stock-price-today-elon-musk-china-full-self-driving-2024-4', 'urlToImage': 'https://i.insider.com/662f82b810dfcda409644af3?width=1200&format=jpeg', 'publishedAt': '2024-04-29T12:14:54Z', 'content': \"Tesla CEO Elon Musk.Anna Webber/Getty Images\\r\\n<ul>\\n<li>Tesla's stock price jumped 10% in Monday's premarket as traders reacted to Elon Musk's China trip.</li>\\n<li>Musk seems to have won key support f… [+2017 chars]\"}, {'source': {'id': 'the-verge', 'name': 'The Verge'}, 'author': 'Charles Pulliam-Moore', 'title': 'Drake has taken down his diss track featuring AI Tupac', 'description': 'Tupac’s lawyers told Drake to take down his diss track featuring an AI-generated Tupac, and the Canadian rapper has complied.', 'url': 'https://www.theverge.com/2024/4/26/24141595/drake-taylor-made-ai-tupac-takedown', 'urlToImage': 'https://cdn.vox-cdn.com/thumbor/jL0shSyaOpORyNL90TKMpPmRC_Y=/0x961:2449x2842/1200x628/filters:focal(1536x1775:1537x1776)/cdn.vox-cdn.com/uploads/chorus_asset/file/25420138/2089852877.jpg', 'publishedAt': '2024-04-26T17:31:05Z', 'content': 'Photo by Carmen Mandato / Getty Images\\r\\n\\n \\n\\n Tupac Shakur’s lawyers warned Drake that they would take him to court if he did not take down his “Taylor Made” diss track featuring AI-altered vocals mad… [+956 chars]'}, {'source': {'id': None, 'name': 'Hipertextual'}, 'author': 'Gabriel Erard', 'title': 'Apple recula: las apps sin monetización no pagarán la polémica ‘Core Technology Fee’ en Europa', 'description': 'Apple acaba de actualizar sus reglas para la distribución de apps en la Unión Europea, tanto desde la App Store como mediante tiendas de terceros. Luego de recibir muchas críticas por la introducción de la Core Technology Fee (CTF), una tarifa de 0,50 euros p…', 'url': 'http://hipertextual.com/2024/05/apple-no-cobrara-core-technology-fee-apps-sin-monetizacion', 'urlToImage': 'https://imgs.hipertextual.com/wp-content/uploads/2021/12/app-store.jpeg', 'publishedAt': '2024-05-02T18:22:48Z', 'content': 'Apple acaba de actualizar sus reglas para la distribución de apps en la Unión Europea, tanto desde la App Store como mediante tiendas de terceros. Luego de recibir muchas críticas por la introducción… [+3810 chars]'}, {'source': {'id': None, 'name': 'Yahoo Entertainment'}, 'author': 'Will Shanklin', 'title': 'The Biden Administration opens $285 million funding for ‘digital twin’ chip research institute', 'description': 'The Biden Administration has opened applications for $285 million in CHIPS Act funding for an institute to develop digital twins for the chip manufacturing industry. The investment aims to speed up silicon design and engineering while boosting national securi…', 'url': 'https://consent.yahoo.com/v2/collectConsent?sessionId=1_cc-session_6a097d9c-4ba2-4f77-872c-cf65a8285633', 'urlToImage': None, 'publishedAt': '2024-05-06T17:27:36Z', 'content': \"If you click 'Accept all', we and our partners, including 237 who are part of the IAB Transparency &amp; Consent Framework, will also store and/or access information on a device (in other words, use … [+678 chars]\"}, {'source': {'id': 'business-insider', 'name': 'Business Insider'}, 'author': 'Sponsor Post', 'title': \"Saudi Arabia is becoming a hot spot for global technology manufacturing with sustainable practices in mind. Here's how.\", 'description': 'Saudi Arabian company Alat is focusing on the use of clean energy and sustainable practices to become a leader in sustainable manufacturing.', 'url': 'https://www.businessinsider.com/sc/how-saudi-arabia-is-becoming-a-global-technology-manufacturing-center', 'urlToImage': 'https://i.insider.com/660d74b616bde8d4ead5231b?width=1200&format=jpeg', 'publishedAt': '2024-04-23T09:52:55Z', 'content': \"Alat\\r\\nSaudi Arabia's ambitious Vision 2030 transformation has already brought significant change and growth to the nation's economy and society, with technology, tourism, and sports gaining global at… [+4360 chars]\"}, {'source': {'id': None, 'name': 'Slashdot.org'}, 'author': 'BeauHD', 'title': \"UK Startup 'Wayve' Gets $1 Billion Funding For Self-Driving Car Tech\", 'description': 'Wayve, a UK-based AI firm focused on developing self-driving car technology, has secured a record $1.05 billion in funding, with Microsoft and Nvidia participating in the round led by SoftBank. According to the BBC, this investment is the largest for an AI co…', 'url': 'https://news.slashdot.org/story/24/05/07/219202/uk-startup-wayve-gets-1-billion-funding-for-self-driving-car-tech', 'urlToImage': 'https://a.fsdn.com/sd/topics/transportation_64.png', 'publishedAt': '2024-05-07T23:20:00Z', 'content': 'Sign up for the Slashdot newsletter! OR check out the new Slashdot job board to browse remote jobs or jobs in your areaDo you develop on GitHub? You can keep using GitHub but automatically sync your … [+268 chars]'}, {'source': {'id': None, 'name': 'Gizmodo.com'}, 'author': 'Maxwell Zeff', 'title': 'Anthropic Founders Publicly Needle OpenAI Execs', 'description': 'Dario and Daniela Amodei, siblings and founders of Anthropic, fired indirect jabs at OpenAI while not stating the company’s name on Thursday. The founders told a San Francisco audience that Anthropic’s AI was the best in the world, and defended their competit…', 'url': 'https://gizmodo.com/anthropic-founders-publicly-needle-openai-execs-1851467231', 'urlToImage': 'https://i.kinja-img.com/image/upload/c_fill,h_675,pg_1,q_80,w_1200/e21b291b48592e746822de7936498382.png', 'publishedAt': '2024-05-09T19:30:00Z', 'content': 'Dario and Daniela Amodei, siblings and founders of Anthropic, fired indirect jabs at OpenAI while not stating the companys name on Thursday. The founders told a San Francisco audience that Anthropics… [+2037 chars]'}, {'source': {'id': None, 'name': '[Removed]'}, 'author': None, 'title': '[Removed]', 'description': '[Removed]', 'url': 'https://removed.com', 'urlToImage': None, 'publishedAt': '1970-01-01T00:00:00Z', 'content': '[Removed]'}, {'source': {'id': None, 'name': '[Removed]'}, 'author': None, 'title': '[Removed]', 'description': '[Removed]', 'url': 'https://removed.com', 'urlToImage': None, 'publishedAt': '1970-01-01T00:00:00Z', 'content': '[Removed]'}, {'source': {'id': None, 'name': 'Slashdot.org'}, 'author': 'msmash', 'title': \"OpenAI's Sam Altman and Other Tech Leaders To Serve on AI Safety Board\", 'description': \"Sam Altman of OpenAI and the chief executives of Nvidia, Microsoft and Alphabet are among technology-industry leaders joining a new federal advisory board focused on the secure use of AI within U.S. critical infrastructure, in the Biden administration's lates…\", 'url': 'https://slashdot.org/story/24/04/26/1249215/openais-sam-altman-and-other-tech-leaders-to-serve-on-ai-safety-board', 'urlToImage': 'https://a.fsdn.com/sd/topics/ai_64.png', 'publishedAt': '2024-04-26T12:49:00Z', 'content': 'The Artificial Intelligence Safety and Security Board is part of a government push to protect the economy, public health and vital industries from being harmed by AI-powered threats, U.S. officials s… [+852 chars]'}, {'source': {'id': None, 'name': 'Seths.blog'}, 'author': 'Seth Godin', 'title': 'The half-life of magic', 'description': '“Any sufficiently advanced technology is indistinguishable from magic.” Arthur C. Clarke Try to imagine the you of twenty years ago holding a Rabbit R1, or using a cell phone or being able to listen to every song, ever recorded, for just a few dollars a month…', 'url': 'https://seths.blog/2024/05/the-half-life-of-magic/', 'urlToImage': 'https://seths.blog/wp-content/uploads/2018/06/seth_godin_ogimages_v02_1806133-1.jpg', 'publishedAt': '2024-05-07T08:22:00Z', 'content': '“Any sufficiently advanced technology is indistinguishable from magic.” Arthur C. Clarke\\r\\nTry to imagine the you of twenty years ago holding a Rabbit R1, or using a cell phone or being able to listen… [+689 chars]'}, {'source': {'id': 'wired', 'name': 'Wired'}, 'author': 'Marah Eakin', 'title': \"I Rode Saga's HoloBike and Things Got a Little Weird\", 'description': \"Saga's HoloBike just launched on Kickstarter. It's pretty and has potential, but the rides themselves are short and need some work.\", 'url': 'https://www.wired.com/story/saga-holographic-bike-kickstarter-launch/', 'urlToImage': 'https://media.wired.com/photos/66395ed182a547333822f7ed/191:100/w_1280,c_limit/Saga-HoloBike-VR-Image-10-Abstract-Background-SOURCE-Saga-Holographic.jpg', 'publishedAt': '2024-05-07T09:00:00Z', 'content': 'Matson told me that he finds wearing a headset to be too cumbersome when youre working out. In particular, parents told him that they cant check out with VR because they need to know whats going on a… [+2040 chars]'}, {'source': {'id': 'wired', 'name': 'Wired'}, 'author': 'Benj Edwards, Ars Technica', 'title': 'Somehow This $10,000 Flame-Thrower Robot Dog Is Completely Legal in 48 States', 'description': 'Meet Thermonator. It blasts fire up to 30 feet and has Bluetooth.', 'url': 'https://www.wired.com/story/thermonator-flame-thrower-robot-dog/', 'urlToImage': 'https://media.wired.com/photos/6629240d1b3cd347009b809d/191:100/w_1280,c_limit/Thermonator17-2.jpg', 'publishedAt': '2024-04-24T21:30:00Z', 'content': \"If you've been wondering when youll be able to order the flame-throwing robot that Ohio-based Throwflame first announced last summer, that day has finally arrived. The Thermonator, what Throwflame bi… [+2022 chars]\"}, {'source': {'id': 'time', 'name': 'Time'}, 'author': 'MICHAEL CASEY / AP', 'title': 'Police Dismantle Pro-Palestinian Encampment at MIT, Move to Clear Others', 'description': 'Police dismantled a\\xa0pro-Palestinian tent encampment\\xa0at the Massachusetts Institute of Technology early Friday.', 'url': 'https://time.com/6976836/police-dismantle-pro-palestinian-encampment-mit-protests/', 'urlToImage': 'https://api.time.com/wp-content/uploads/2024/05/AP24131351488475-1.jpg?quality=85&w=1200&h=628&crop=1', 'publishedAt': '2024-05-10T12:54:44Z', 'content': 'Police dismantled a pro-Palestinian tent encampment at the Massachusetts Institute of Technology early Friday and moved to clear protesters from University of Pennsylvanias campus in Philadelphia, ho… [+3986 chars]'}, {'source': {'id': 'wired', 'name': 'Wired'}, 'author': 'Adrienne So', 'title': 'The Dyson WashG1 Is an All-in-One Wet Floor Cleaner That Doesn’t Use Suction', 'description': 'In true Dyson fashion, this new floor cleaner is over-engineered and expensive, looks awesome, and overlooks one silly, simple function.', 'url': 'https://www.wired.com/story/dyson-wash-g1/', 'urlToImage': 'https://media.wired.com/photos/6640063ff862d87f3ab75782/191:100/w_1280,c_limit/Dyson-WashG1-Abstract-Background-SOURCE-Dyson.jpg', 'publishedAt': '2024-05-13T23:01:00Z', 'content': \"Theres also only one roller head on the Submarine, but it already has a debris tray you can no-touch rinse and empty. It's also easy to take apart the Submarine head to rinse it and let it air dry at… [+1786 chars]\"}, {'source': {'id': None, 'name': 'Gizmodo.com'}, 'author': 'Maxwell Zeff', 'title': 'Everyone Already Forgot About the Apple Vision Pro', 'description': 'Apple’s Vision Pro debuted just two months ago, drawing crowds of people to sign up for demos and almost immediately selling out. Since then, interest in Apple’s premiere mixed reality headset has plummeted and sales are grinding to a halt at some retail stor…', 'url': 'https://gizmodo.com/apple-vision-pro-already-forgotten-about-1851426564', 'urlToImage': 'https://i.kinja-img.com/image/upload/c_fill,h_675,pg_1,q_80,w_1200/35d28f825cc64d665263964fb53533ef.jpg', 'publishedAt': '2024-04-22T17:10:00Z', 'content': 'Apples Vision Pro debuted just two months ago, drawing crowds of people to sign up for demos and almost immediately selling out. Since then, interest in Apples premiere mixed reality headset has plum… [+2889 chars]'}, {'source': {'id': 'the-verge', 'name': 'The Verge'}, 'author': 'Joanna Nelius', 'title': 'When notifications remind us of things we’d rather forget', 'description': 'Transferring photos from the cloud to an external drive is one way to fix that problem.', 'url': 'https://www.theverge.com/24147418/intrusive-notifications-bad-memories-cloud-storage', 'urlToImage': 'https://cdn.vox-cdn.com/thumbor/q1AGmpruiN06_sZAHPMhSVf25gk=/0x0:1924x1283/1200x628/filters:focal(138x149:139x150)/cdn.vox-cdn.com/uploads/chorus_asset/file/25430750/2149574525.jpg', 'publishedAt': '2024-05-02T19:42:05Z', 'content': 'When notifications remind us of things wed rather forget\\r\\nWhen notifications remind us of things wed rather forget\\r\\n / Im ditching cloud storage and going back to external drives.\\xa0\\r\\nByJoanna Nelius, … [+4598 chars]'}, {'source': {'id': None, 'name': 'Gizmodo.com'}, 'author': 'Matt Novak', 'title': \"Neuralink Co-Founder Suggests He Left Elon Musk's Company Over Safety Concerns\", 'description': 'Would you let Elon Musk tinker with your brain? That’s a question we all might be facing in the future if his brain-computer interface company Neuralink succeeds. But anyone who’s ready to raise their hands for brain surgery might want to hear what one of the…', 'url': 'https://gizmodo.com/neuralink-elon-musk-safety-concerns-benjamin-rapoport-1851458303', 'urlToImage': 'https://i.kinja-img.com/image/upload/c_fill,h_675,pg_1,q_80,w_1200/74b34a1370007eb5a14b046f25bf2d13.jpg', 'publishedAt': '2024-05-06T20:50:00Z', 'content': 'Would you let Elon Musk tinker with your brain? Thats a question we all might be facing in the future if his brain-computer interface company Neuralink succeeds. But anyone whos ready to raise their … [+3623 chars]'}, {'source': {'id': 'the-verge', 'name': 'The Verge'}, 'author': 'Alex Cranz', 'title': 'People sure are pressed about Apple’s crushing iPad commercial', 'description': 'The world is having a major discussion about automation and AI, so Apple’s latest commercial crushing all of human creativity into an iPad has angered a lot of artists and other creatives.', 'url': 'https://www.theverge.com/2024/5/8/24152236/apple-ipad-pro-commercial-artists-ai', 'urlToImage': 'https://cdn.vox-cdn.com/thumbor/Jnn7KuyB37kSxSm4yzFBLri4qsE=/0x0:1162x578/1200x628/filters:focal(603x346:604x347)/cdn.vox-cdn.com/uploads/chorus_asset/file/25439211/Capto_Capture_2024_05_08_03_55_22_PM.jpg', 'publishedAt': '2024-05-08T20:29:44Z', 'content': 'People sure are pressed about Apples crushing iPad commercial\\r\\nPeople sure are pressed about Apples crushing iPad commercial\\r\\n / Apple did not read the room on this one.\\r\\nByAlex Cranz, deputy editor … [+2476 chars]'}, {'source': {'id': 'bbc-news', 'name': 'BBC News'}, 'author': 'https://www.facebook.com/bbcnews', 'title': 'Blue Peter winner designed TV with internet in 1970s', 'description': 'Steven Bostock marks the 50th anniversary of his idea for the year 2000.', 'url': 'https://www.bbc.co.uk/news/uk-england-derbyshire-68945703', 'urlToImage': 'https://ichef.bbci.co.uk/news/1024/branded_news/2D56/production/_133260611_5274e059-4e0a-436c-8f30-e99d70b1f461.png', 'publishedAt': '2024-05-03T05:02:43Z', 'content': 'A winner of a Blue Peter competition 50 years ago wishes he had patented his idea because he said he would be \"a lot richer\" than he is now.\\r\\nSteven Bostock, of Pleasley, Derbyshire, designed a flat-… [+2123 chars]'}, {'source': {'id': 'the-verge', 'name': 'The Verge'}, 'author': 'Mia Sato', 'title': 'Reddit is updating its app to focus more on comments', 'description': 'An update to the Reddit app on iOS and Android tweaks how comments load when users click a post. Now, clicking on the comments icon will jump straight to discussions and compress the original post.', 'url': 'https://www.theverge.com/2024/4/24/24139196/reddit-app-update-instant-comments-loading', 'urlToImage': 'https://cdn.vox-cdn.com/thumbor/se2Vcktpa_FnWSteEbr9Hp5Urog=/0x0:2040x1360/1200x628/filters:focal(1020x680:1021x681)/cdn.vox-cdn.com/uploads/chorus_asset/file/25137774/STK115_Reddit_04.jpg', 'publishedAt': '2024-04-24T17:00:00Z', 'content': 'Reddit is updating its app to focus more on comments\\r\\nReddit is updating its app to focus more on comments\\r\\n / The update tweaks how comments load when users click a post.\\r\\nByMia Sato, platforms and … [+1905 chars]'}, {'source': {'id': 'the-verge', 'name': 'The Verge'}, 'author': 'Mia Sato', 'title': 'TikTok is testing AI-generated search results', 'description': 'On TikTok, ChatGPT-generated results appear for some search queries, along with a more general “search highlights” feature. Not all queries have AI answers.', 'url': 'https://www.theverge.com/2024/5/13/24155875/tiktok-ai-generated-search-results-highlights-chatgpt', 'urlToImage': 'https://cdn.vox-cdn.com/thumbor/tvf0lry7HKSRYwcu_ejbT1Ystwg=/0x0:2040x1360/1200x628/filters:focal(1020x680:1021x681)/cdn.vox-cdn.com/uploads/chorus_asset/file/23951409/STK051_VRG_Illo_N_Barclay_3_tiktok.jpg', 'publishedAt': '2024-05-13T22:45:09Z', 'content': 'TikTok is testing AI-generated search results\\r\\nTikTok is testing AI-generated search results\\r\\n / ChatGPT-generated results appear for some search queries, along with a more general search highlights … [+1917 chars]'}, {'source': {'id': 'the-verge', 'name': 'The Verge'}, 'author': 'Emilia David', 'title': 'OpenAI and Stack Overflow partner to bring more technical knowledge into ChatGPT', 'description': 'OpenAI plans to surface more technical information from Stack Overflow in ChatGPT, while Stack Overflow will use OpenAI’s models to build its AI products.', 'url': 'https://www.theverge.com/2024/5/6/24150341/openai-stack-overflow-partner-api-coding-assistance', 'urlToImage': 'https://cdn.vox-cdn.com/thumbor/QCdO_oKAdBIZCodEUT2WCBFgQSo=/0x0:2040x1360/1200x628/filters:focal(1020x680:1021x681)/cdn.vox-cdn.com/uploads/chorus_asset/file/24390406/STK149_AI_03.jpg', 'publishedAt': '2024-05-06T17:52:34Z', 'content': 'OpenAI and Stack Overflow partner to bring more technical knowledge into ChatGPT\\r\\nOpenAI and Stack Overflow partner to bring more technical knowledge into ChatGPT\\r\\n / More information from Stack Over… [+2023 chars]'}, {'source': {'id': 'business-insider', 'name': 'Business Insider'}, 'author': 'Lakshmi Varanasi', 'title': \"I'm using my synesthesia to create a new genre of AI art. The technology can 'read' my paintings and help me compose music.\", 'description': 'Shane Guffogg is an artist with synesthesia and says he hears colors when he paints. He said AI helped him \"unlock the musicality\" in his work.', 'url': 'https://www.businessinsider.com/ai-art-painter-synesthesia-composed-music-from-paintings-2024-4', 'urlToImage': 'https://i.insider.com/662bd5fa0dfb1341e9ffb342?width=1200&format=jpeg', 'publishedAt': '2024-04-28T12:21:01Z', 'content': 'Shane Guffogg said AI helped him \"unlock the musicality\" in his paintings.Soni Mei Images\\r\\n<ul><li>Shane Guffogg is a multi-media abstract artist with synesthesia, meaning he \"hears color.\"\\xa0</li><li>… [+5157 chars]'}, {'source': {'id': 'ars-technica', 'name': 'Ars Technica'}, 'author': 'Kyle Orland', 'title': 'Court rules against Activision Blizzard in $23.4M patent dispute', 'description': 'Activision plans appeal, says it uses different network tech in its games.', 'url': 'https://arstechnica.com/gaming/2024/05/jury-finds-activision-blizzard-liable-in-23-4m-patent-infringement-case/', 'urlToImage': 'https://cdn.arstechnica.net/wp-content/uploads/2024/05/wowcrowd-760x380.png', 'publishedAt': '2024-05-08T14:49:34Z', 'content': \"Enlarge/ Acceleration Bay says World of Warcraft's networking code infringes on a patent originally filed by Boeing.\\r\\n21\\r\\nA jury has found Activision Blizzard liable for $23.4 million in damages in a… [+2478 chars]\"}, {'source': {'id': None, 'name': 'Hackaday'}, 'author': 'Bryan Cockfield', 'title': 'Implantable Battery Charges Itself', 'description': 'Battery technology is the major limiting factor for the large-scale adoption of electric vehicles and grid-level energy storage. Marginal improvements have been made for lithium cells in the past decade …read more', 'url': 'https://hackaday.com/2024/04/25/implantable-battery-charges-itself/', 'urlToImage': 'https://hackaday.com/wp-content/uploads/2024/04/battery-main.jpg', 'publishedAt': '2024-04-25T08:00:02Z', 'content': 'Battery technology is the major limiting factor for the large-scale adoption of electric vehicles and grid-level energy storage. Marginal improvements have been made for lithium cells in the past dec… [+1287 chars]'}, {'source': {'id': None, 'name': 'Hackaday'}, 'author': 'Tom Nardi', 'title': '80s Function Generator is Both Beauty and Beast', 'description': 'You know how the saying goes — they don’t make them like this anymore. It’s arguably true of pretty much any electronic device given the way technology changes over time, …read more', 'url': 'https://hackaday.com/2024/04/23/80s-function-generator-is-both-beauty-and-beast/', 'urlToImage': 'https://hackaday.com/wp-content/uploads/2024/04/3314a_feat.jpg', 'publishedAt': '2024-04-23T20:00:50Z', 'content': 'You know how the saying goes — they don’t make them like this anymore. It’s arguably true of pretty much any electronic device given the way technology changes over time, though whether or not it’s o… [+1123 chars]'}, {'source': {'id': None, 'name': 'Hackaday'}, 'author': 'Arya Voronova', 'title': 'Relatively Universal ROM Programmer Makes Retro Tech Hacking Accessible', 'description': 'There’s treasures hidden in old technology, and you deserve to be able to revive it. Whether it’s old personal computer platforms, vending machines, robot arms, or educational kits based on …read more', 'url': 'https://hackaday.com/2024/04/20/relatively-universal-rom-programmer-makes-retro-tech-hacking-accessible/', 'urlToImage': 'https://hackaday.com/wp-content/uploads/2024/04/hadimg_reluni_romprog_feat.jpeg', 'publishedAt': '2024-04-20T20:00:00Z', 'content': 'There’s treasures hidden in old technology, and you deserve to be able to revive it. Whether it’s old personal computer platforms, vending machines, robot arms, or educational kits based on retro pla… [+1616 chars]'}, {'source': {'id': None, 'name': 'Ted.com'}, 'author': 'Helen Toner, contact@ted.com (TED)', 'title': \"How to govern AI — even if it's hard to predict | Helen Toner\", 'description': \"No one truly understands AI, not even experts, says Helen Toner, an AI policy researcher and former board member of OpenAI. But that doesn't mean we can't govern it. She shows how we can make smart policies to regulate this technology even as we struggle to p…\", 'url': 'https://www.ted.com/talks/helen_toner_how_to_govern_ai_even_if_it_s_hard_to_predict', 'urlToImage': 'https://pi.tedcdn.com/r/talkstar-photos.s3.amazonaws.com/uploads/9d9694d5-5dc0-4c91-a989-9b2cb3f827f2/HelenToner_2024-embed.jpg?u%5Br%5D=2&u%5Bs%5D=0.5&u%5Ba%5D=0.8&u%5Bt%5D=0.03&quality=82c=1050%2C550&w=1050', 'publishedAt': '2024-05-01T14:50:34Z', 'content': 'Get a daily email featuring the latest talk, plus a quick mix of trending content.\\r\\nBy subscribing, you understand and agree that we will store, process and manage your personal information according… [+66 chars]'}, {'source': {'id': None, 'name': 'Hackaday'}, 'author': 'Navarre Bartz', 'title': 'AI Camera Only Takes Nudes', 'description': 'One of the cringier aspects of AI as we know it today has been the proliferation of deepfake technology to make nude photos of anyone you want. What if you took away the abstraction and put the fak…', 'url': 'https://hackaday.com/2024/04/22/ai-camera-only-takes-nudes/', 'urlToImage': 'https://hackaday.com/wp-content/uploads/2024/04/NUCA-Visual1-Yellow-q.jpg', 'publishedAt': '2024-04-22T08:00:00Z', 'content': 'One of the cringier aspects of AI as we know it today has been the proliferation of deepfake technology to make nude photos of anyone you want. What if you took away the abstraction and put the faker… [+1174 chars]'}, {'source': {'id': None, 'name': 'Hackaday'}, 'author': 'Lewin Day', 'title': 'Australian Library Uses Chatbot To Imitate Veteran With Predictable Results', 'description': 'The educational sector is usually the first to decry large language models and AI, due to worries about cheating. The State Library of Queensland, however, has embraced the technology in controvers…', 'url': 'https://hackaday.com/2024/04/26/australian-library-uses-chatbot-to-imitate-veteran-with-predictable-results/', 'urlToImage': 'https://hackaday.com/wp-content/uploads/2024/04/Screenshot-2024-04-26-173112-e1714118530614.png', 'publishedAt': '2024-04-27T02:00:13Z', 'content': 'The educational sector is usually the first to decry large language models and AI, due to worries about cheating. The State Library of Queensland, however, has embraced the technology in controversia… [+1571 chars]'}, {'source': {'id': None, 'name': 'Hackaday'}, 'author': 'Al Williams', 'title': 'Spend an Hour in the Virtual Radio Museum', 'description': 'You have an hour to kill, and you like old communication technology. If you happen to be in Windsor, Connecticut, you could nip over to the Vintage Radio and Communication Museum. If you aren&#8217…', 'url': 'https://hackaday.com/2024/05/06/spend-an-hour-in-the-virtual-radio-museum/', 'urlToImage': 'https://hackaday.com/wp-content/uploads/2024/05/museum.png', 'publishedAt': '2024-05-06T15:30:16Z', 'content': 'You have an hour to kill, and you like old communication technology. If you happen to be in Windsor, Connecticut, you could nip over to the Vintage Radio and Communication Museum. If you aren’t in Wi… [+1039 chars]'}, {'source': {'id': None, 'name': 'Understandingai.org'}, 'author': 'Tim Mak', 'title': 'The Ukraine war is driving rapid innovation in drone technology', 'description': 'Ukraine is attacking Russian vehicles with drones that cost as little as $450.', 'url': 'https://www.understandingai.org/p/the-ukraine-war-is-driving-rapid', 'urlToImage': 'https://substackcdn.com/image/fetch/w_1200,h_600,c_fill,f_jpg,q_auto:good,fl_progressive:steep,g_auto/https%3A%2F%2Fsubstack-post-media.s3.amazonaws.com%2Fpublic%2Fimages%2Fd007cf80-d76e-46c0-94f7-31734b17341e_594x396.jpeg', 'publishedAt': '2024-05-10T02:30:07Z', 'content': 'Tim Mak is an independent war correspondent in Ukraine. Reporting from a war zone has traditionally required the backing of a large media organization. But for the past year Tim has done something ex… [+10036 chars]'}, {'source': {'id': None, 'name': 'Notus.org'}, 'author': 'Byron Tau', 'title': 'War Zone Surveillance Technology Is Hitting American Streets', 'description': 'At least two Texas communities along the U.S.-Mexico border have purchased technology that tracks people’s locations using data from personal electronics and license plates.', 'url': 'https://www.notus.org/technology/war-zone-surveillance-border-us', 'urlToImage': 'https://static.notus.org/dims4/default/63a3c01/2147483647/strip/true/crop/6000x3375+0+0/resize/1440x810!/quality/90/?url=https%3A%2F%2Fk2-prod-aji.s3.us-east-1.amazonaws.com%2Fbrightspot%2F17%2Ff5%2Ff9493aff48e78008a8387a317706%2Fistock-1129781738.jpg', 'publishedAt': '2024-04-30T17:18:06Z', 'content': 'Big Brother isnt just watching you: Hes using your cell phone, smartwatch, wireless earbuds, car entertainment systems and license plates to track your location in real time.\\r\\nContracting records and… [+10531 chars]'}, {'source': {'id': None, 'name': 'Stackexchange.com'}, 'author': None, 'title': \"Could humans alter the moon's orbit significantly with current technology?\", 'description': 'A terrible virus has made most of the populations and government officials of the largest superpowers on Earth stark, raving mad, without depriving them of their intelligence. \\n\\nThey have decided t...', 'url': 'https://worldbuilding.stackexchange.com/questions/47410/could-humans-alter-the-moons-orbit-significantly-with-current-technology', 'urlToImage': 'https://cdn.sstatic.net/Sites/worldbuilding/Img/apple-touch-icon@2.png?v=763f4decb9a7', 'publishedAt': '2024-04-28T03:16:54Z', 'content': 'The answer of Damon is close to what I have in mind, never mentioned in the \"orthodox\" , or rather conventional thoughts of the bulk. That was my point 2 in the first answer. If you somehow added a 1… [+2436 chars]'}, {'source': {'id': None, 'name': 'Slashdot.org'}, 'author': 'msmash', 'title': 'UK Starts Drafting AI Regulations for Most Powerful Models', 'description': \"The UK is starting to draft regulations to govern AI, focusing on the most powerful language models which underpin OpenAI's ChatGPT, Bloomberg News reported Monday, citing people familiar with the matter. From the report: Policy officials at the Department fo…\", 'url': 'https://news.slashdot.org/story/24/04/15/1726254/uk-starts-drafting-ai-regulations-for-most-powerful-models', 'urlToImage': 'https://a.fsdn.com/sd/topics/ai_64.png', 'publishedAt': '2024-04-15T18:50:00Z', 'content': 'Policy officials at the Department for Science, Innovation and Technology are in the early stages of devising legislation to limit potential harms caused by the emerging technology, according to the … [+717 chars]'}, {'source': {'id': None, 'name': 'Slashdot.org'}, 'author': 'BeauHD', 'title': 'Apple Acquires Datakalab, a French Startup Behind AI and Computer Vision Tech', 'description': 'According to French business magazine Challenges, Apple has acquired Datakalab -- a Paris-based startup specializing in artificial intelligence compression and computer vision technology. 9to5Mac reports: Datakalab described itself as \"experts in low power, r…', 'url': 'https://apple.slashdot.org/story/24/04/22/2320251/apple-acquires-datakalab-a-french-startup-behind-ai-and-computer-vision-tech', 'urlToImage': 'https://a.fsdn.com/sd/topics/business_64.png', 'publishedAt': '2024-04-23T00:45:00Z', 'content': 'Datakalab described itself as \"experts in low power, runtime efficient, and deep learning algorithms\" that work on device. On its LinkedIn page, Datakalab highlights \"industry leading compression and… [+933 chars]'}, {'source': {'id': None, 'name': '[Removed]'}, 'author': None, 'title': '[Removed]', 'description': '[Removed]', 'url': 'https://removed.com', 'urlToImage': None, 'publishedAt': '1970-01-01T00:00:00Z', 'content': '[Removed]'}, {'source': {'id': None, 'name': 'Yahoo Entertainment'}, 'author': 'Lawrence Bonk', 'title': 'OpenAI says it can detect images made by its own software… mostly', 'description': 'We all think we’re pretty good at identifying images made by AI. It’s the weird alien text in the background. It’s the bizarre inaccuracies that seem to break the laws of physics. Most of all, it’s those gruesome hands and fingers. However, the technology is …', 'url': 'https://consent.yahoo.com/v2/collectConsent?sessionId=1_cc-session_0d2b880c-580a-46ec-9ac1-e1e13ebb5e39', 'urlToImage': None, 'publishedAt': '2024-05-07T17:00:12Z', 'content': \"If you click 'Accept all', we and our partners, including 238 who are part of the IAB Transparency &amp; Consent Framework, will also store and/or access information on a device (in other words, use … [+678 chars]\"}, {'source': {'id': None, 'name': 'Yahoo Entertainment'}, 'author': 'Lawrence Bonk', 'title': 'Sony’s new Bravia TVs boast powerful processors and a Prime Video calibration mode', 'description': 'Sony just revealed its lineup of new TVs for 2024. While many boast interesting features that we’ll get into later, the biggest change is naming conventions. Sony TVs used to be named confusing strings of numbers and letters, but that’s all gone now. The name…', 'url': 'https://consent.yahoo.com/v2/collectConsent?sessionId=1_cc-session_4e1e18b1-e43c-4495-a11e-880c0b1c086a', 'urlToImage': None, 'publishedAt': '2024-04-17T16:00:46Z', 'content': \"If you click 'Accept all', we and our partners, including 238 who are part of the IAB Transparency &amp; Consent Framework, will also store and/or access information on a device (in other words, use … [+678 chars]\"}, {'source': {'id': None, 'name': 'Yahoo Entertainment'}, 'author': 'Pranav Dixit', 'title': \"The world's leading AI companies pledge to protect the safety of children online\", 'description': 'Leading artificial intelligence companies including OpenAI, Microsoft, Google, Meta and others have jointly pledged to prevent their AI tools from being used to exploit children and generate child sexual abuse material (CSAM). The initiative was led by child-…', 'url': 'https://consent.yahoo.com/v2/collectConsent?sessionId=1_cc-session_cc879a99-4b74-4aac-bc82-2130e6d662a6', 'urlToImage': None, 'publishedAt': '2024-04-23T21:35:58Z', 'content': \"If you click 'Accept all', we and our partners, including 238 who are part of the IAB Transparency &amp; Consent Framework, will also store and/or access information on a device (in other words, use … [+678 chars]\"}, {'source': {'id': None, 'name': 'Makezine.com'}, 'author': 'David Groom', 'title': 'Review: We’re Stuck On This Magnetically-Enhanced Keyboard From Keychron', 'description': 'Manufacturer:\\xa0Keychron URL:\\xa0https://www.keychron.com Price:\\xa0$219 The crossover between makers and mechanical keyboard enthusiasts is significant. Makers’ innate drive to bend technology to their will and customize hardware to their specific needs makes them p…', 'url': 'https://makezine.com/article/technology/computers-mobile/review-were-stuck-on-this-magnetically-enhanced-keyboard-from-keychron/', 'urlToImage': 'https://makezine.com/wp-content/uploads/2024/04/Q1-HE-1.webp', 'publishedAt': '2024-04-18T20:24:07Z', 'content': 'Manufacturer:\\xa0Keychron\\r\\nURL:\\xa0https://www.keychron.com\\r\\nPrice:\\xa0$219\\r\\nThe crossover between makers and mechanical keyboard enthusiasts is significant. Makers innate drive to bend technology to their wi… [+2641 chars]'}, {'source': {'id': 'wired', 'name': 'Wired'}, 'author': 'Tim Barber', 'title': 'TAG Heuer Kith Formula 1 Watch 2024: Prices, Specs, Availability', 'description': \"Move over MoonSwatch—in a collaboration with Kith, TAG is reissuing 10 pimped versions of its classic plastic sports watch. And, yes, they will be available online (if you're fast enough).\", 'url': 'https://www.wired.com/story/tag-heuer-kith-formula-1-watch-reborn-2024/', 'urlToImage': 'https://media.wired.com/photos/6631576eacb37ee44400ff71/191:100/w_1280,c_limit/06-GROUPESHOT-03_16-9.jpg', 'publishedAt': '2024-05-01T12:00:00Z', 'content': 'Concessions to modernity include sapphire crystal instead of plastic for the dial covering on these new models, and high-grade rubber straps instead of the plastic of old. The range includes five ver… [+2587 chars]'}]}\n"
     ]
    }
   ],
   "source": [
    "for tool_call in tool_calls:\n",
    "    print(call_tool(tool_call))"
   ]
  },
  {
   "cell_type": "code",
   "execution_count": 59,
   "metadata": {},
   "outputs": [
    {
     "name": "stdout",
     "output_type": "stream",
     "text": [
      "[{'name': 'get_news', 'args': {'topic': 'NewJeans'}, 'id': '7738b749-2ad2-44ea-bb52-e654f15f7e4c'}]\n",
      "{'status': 'ok', 'totalResults': 316, 'articles': [{'source': {'id': 'the-verge', 'name': 'The Verge'}, 'author': 'Amrita Khalid', 'title': 'You don’t know your K-pop persona, do you?', 'description':\n"
     ]
    }
   ],
   "source": [
    "query = \"What's news on NewJeans?\"\n",
    "\n",
    "tool_calls = llm_with_tools.invoke(query).tool_calls\n",
    "print(tool_calls)\n",
    "\n",
    "for tool_call in tool_calls:\n",
    "    print(str(call_tool(tool_call))[:200])"
   ]
  },
  {
   "cell_type": "markdown",
   "metadata": {},
   "source": [
    "## Guardrails\n",
    "\n",
    "Guardrails is a Python framework that helps build reliable AI applications by performing two key tasks. It runs Input/Output Guards in your application to detect, measure, and reduce specific risks. See Guardrails Hub for the full list of risks. For more info, visit <https://www.guardrailsai.com/docs>.\n",
    "![Guardrails](./figures/gr.png)"
   ]
  },
  {
   "cell_type": "code",
   "execution_count": 60,
   "metadata": {},
   "outputs": [],
   "source": [
    "# https://github.com/guardrails-ai/validator-template/blob/main/validator/main.py\n",
    "from typing import Any, Callable, Dict, Optional\n",
    "from guardrails import OnFailAction\n",
    "from guardrails.validator_base import (\n",
    "    FailResult,\n",
    "    PassResult,\n",
    "    ValidationResult,\n",
    "    Validator,\n",
    "    register_validator,\n",
    ")\n",
    "\n",
    "\n",
    "@register_validator(name=\"guardrails/solar_validator\", data_type=\"string\")\n",
    "class SolarValidator(Validator):\n",
    "    \"\"\"Validates that {fill in how you validator interacts with the passed value}.\n",
    "    \"\"\" \n",
    "\n",
    "    # If you don't have any init args, you can omit the __init__ method.\n",
    "    def __init__(\n",
    "        self,\n",
    "        keyword: str = \"solar\",\n",
    "        on_fail: Optional[Callable] = OnFailAction.EXCEPTION,\n",
    "    ):\n",
    "        super().__init__(on_fail=on_fail, keyword=keyword)\n",
    "        self._keyword = keyword\n",
    "\n",
    "    def validate(self, value: Any, metadata: Dict = {}) -> ValidationResult:\n",
    "        \"\"\"Validates that {fill in how you validator interacts with the passed value}.\"\"\"\n",
    "        # Add your custom validator logic here and return a PassResult or FailResult accordingly.\n",
    "        if self._keyword in str(value):\n",
    "            return PassResult()\n",
    "\n",
    "        return FailResult(\n",
    "            error_message=\"{A descriptive but concise error message about why validation failed}\",\n",
    "            fix_value=\"{The programmtic fix if applicable, otherwise remove this kwarg.}\",\n",
    "        )"
   ]
  },
  {
   "cell_type": "code",
   "execution_count": 61,
   "metadata": {},
   "outputs": [],
   "source": [
    "from guardrails import Guard\n",
    "\n",
    "guard = Guard().use(SolarValidator())"
   ]
  },
  {
   "cell_type": "code",
   "execution_count": 62,
   "metadata": {},
   "outputs": [
    {
     "data": {
      "text/plain": [
       "ValidationOutcome(raw_llm_output='solar llm is super great!', validated_output='solar llm is super great!', reask=None, validation_passed=True, error=None)"
      ]
     },
     "execution_count": 62,
     "metadata": {},
     "output_type": "execute_result"
    }
   ],
   "source": [
    "guard.parse(\"solar llm is super great!\")"
   ]
  },
  {
   "cell_type": "code",
   "execution_count": 63,
   "metadata": {},
   "outputs": [
    {
     "name": "stdout",
     "output_type": "stream",
     "text": [
      "Guard failed: Validation failed for field with errors: {A descriptive but concise error message about why validation failed}\n"
     ]
    }
   ],
   "source": [
    "try:\n",
    "    guard.parse(\"My favorite phone is BlackBerry.\")\n",
    "except Exception as e:\n",
    "    print(\"Guard failed:\", e)"
   ]
  },
  {
   "cell_type": "markdown",
   "metadata": {},
   "source": [
    "## 🚀 Exciting Excercise: Building Your Own AI-Powered Chatbot! 🤖\n",
    "\n",
    "### Introduction\n",
    "\n",
    "Congratulations on completing the course on building chatbots using Language Models (LLMs), Layout Analysis (LA), custom tools, and Groundedness Checks (GC)! It's time to put your skills to the test by creating your own AI-powered chatbot. 🎉\n",
    "\n",
    "### Objective\n",
    "\n",
    "Your task is to develop a chatbot that can perform various tasks based on user queries, such as:\n",
    "\n",
    "- 🎨 Drawing images based on user descriptions\n",
    "- 📰 Searching for the latest news on various topics\n",
    "- 📅 Checking and managing schedules\n",
    "- 📄 Extracting structured information from PDFs and images using Layout Analysis\n",
    "- 🌟 And more!\n",
    "\n",
    "### Requirements\n",
    "\n",
    "To create your chatbot, you'll need to leverage the following components:\n",
    "\n",
    "1. 🧠 Language Model (LLM): Use a powerful LLM to understand user queries and generate responses.\n",
    "\n",
    "2. 📊 Layout Analysis (LA): Utilize Layout Analysis techniques to extract structured information from PDFs and images.\n",
    "\n",
    "3. 🛠️ Custom Tools: Develop custom tools for specific actions like image generation, news search, and schedule management.\n",
    "\n",
    "4. ✅ Groundedness Check (GC): Implement a groundedness check to ensure relevant and accurate responses.\n",
    "\n",
    "## Conclusion\n",
    "\n",
    "This homework assignment is your opportunity to showcase your skills in building an AI-powered chatbot that can understand and process visual content using Layout Analysis. Have fun and be creative! 🚀\n",
    "\n",
    "Happy coding, and may your chatbot impress everyone! 😄"
   ]
  }
 ],
 "metadata": {
  "kernelspec": {
   "display_name": "Python 3",
   "language": "python",
   "name": "python3"
  },
  "language_info": {
   "codemirror_mode": {
    "name": "ipython",
    "version": 3
   },
   "file_extension": ".py",
   "mimetype": "text/x-python",
   "name": "python",
   "nbconvert_exporter": "python",
   "pygments_lexer": "ipython3",
   "version": "3.9.6"
  }
 },
 "nbformat": 4,
 "nbformat_minor": 2
}
